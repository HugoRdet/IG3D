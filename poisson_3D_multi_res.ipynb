{
 "cells": [
  {
   "cell_type": "code",
   "execution_count": 1,
   "metadata": {},
   "outputs": [],
   "source": [
    "import torch\n",
    "import matplotlib.pyplot as plt\n",
    "import numpy as np\n",
    "import plotly.graph_objects as go\n",
    "import time\n",
    "from tqdm import tqdm\n",
    "from utils import*\n",
    "import gc\n",
    "import scipy as scipy\n",
    "\n",
    "from scipy.sparse import csc_matrix\n",
    "\n",
    "\n",
    "device = torch.device(\"cuda\" if torch.cuda.is_available() else \"cpu\")"
   ]
  },
  {
   "cell_type": "markdown",
   "metadata": {},
   "source": [
    "# .Obj file handling part"
   ]
  },
  {
   "cell_type": "code",
   "execution_count": 2,
   "metadata": {},
   "outputs": [],
   "source": [
    "points_c=get_file_obj(\"./data/bun_zipper.obj\")"
   ]
  },
  {
   "cell_type": "code",
   "execution_count": 3,
   "metadata": {},
   "outputs": [
    {
     "name": "stdout",
     "output_type": "stream",
     "text": [
      "torch.Size([35947, 6])\n"
     ]
    }
   ],
   "source": [
    "print(points_c.shape)"
   ]
  },
  {
   "cell_type": "code",
   "execution_count": 4,
   "metadata": {},
   "outputs": [
    {
     "name": "stdout",
     "output_type": "stream",
     "text": [
      "151232\n"
     ]
    }
   ],
   "source": [
    "dico=dict()\n",
    "bord=get_borders(points_c)\n",
    "\n",
    "create_quadtree(dico,0,7,points_c,bord,\"\")\n",
    "print(len(dico))"
   ]
  },
  {
   "cell_type": "code",
   "execution_count": 5,
   "metadata": {},
   "outputs": [],
   "source": [
    "bord=get_borders(points_c)"
   ]
  },
  {
   "cell_type": "code",
   "execution_count": 6,
   "metadata": {},
   "outputs": [],
   "source": [
    "def get_min_width(dico,D):\n",
    "    min_width=1e9\n",
    "    for node in dico:\n",
    "        if (dico[node][2]<min_width and dico[node][0]<=D ):\n",
    "            min_width=dico[node][2]\n",
    "    return min_width\n",
    "        \n",
    "\n",
    "def get_dico_final(dico,D):\n",
    "    new_dico=dict()\n",
    "\n",
    "    for node in dico:\n",
    "        if dico[node][0]==D or (dico[node][0]<=D and len(dico[node][-1])==1):\n",
    "\n",
    "            for i in range(1,9):\n",
    "                tmp_node=node[:-1]+str(i)\n",
    "                new_dico[tmp_node]=dico[tmp_node]\n",
    "    return new_dico\n",
    "        \n",
    "\n",
    "def get_os(nb_s,dico,D):\n",
    "    cpt_p=0\n",
    "    s_p=torch.ones((nb_s,6))\n",
    "    o_s=torch.ones((nb_s,8,5)) #interpolation weight , width , center\n",
    "    L_indexes=dict()\n",
    "    for node in dico:\n",
    "        if dico[node][0]==D or (dico[node][0]<=D and len(dico[node][-1])==1):\n",
    "            depth,o_c,o_w,border,border_father,l_points=dico[node]\n",
    "\n",
    "            for p in l_points:\n",
    "                s_p[cpt_p]=p.clone()\n",
    "\n",
    "                gx,dx,gy,dy,gz,dz=border_father\n",
    "\n",
    "                tmp_o_vec=torch.empty((8,5))\n",
    "                for idx_nbgr in range(1,9):\n",
    "                    tmp_node=node[:-1]+str(idx_nbgr)\n",
    "                    tmp_o_vec[idx_nbgr-1,1]=dico[tmp_node][2]\n",
    "                    tmp_o_vec[idx_nbgr-1,2:]=dico[tmp_node][1]\n",
    "\n",
    "                    \n",
    "\n",
    "                    u=(s_p[cpt_p,0]-gx)/(dx-gx)\n",
    "                    v=(s_p[cpt_p,1]-gy)/(dy-gy)\n",
    "                    w=(s_p[cpt_p,2]-gz)/(dz-gz)\n",
    "                    \n",
    "\n",
    "                    \n",
    "                    if idx_nbgr==1:\n",
    "                        tmp_o_vec[0,0]=(1-u)*v*w\n",
    "                    if idx_nbgr==2:\n",
    "                        tmp_o_vec[1,0]=u*v*w\n",
    "                    if idx_nbgr==3:\n",
    "                        tmp_o_vec[2,0]=(1-u)*(1-v)*w\n",
    "                    if idx_nbgr==4:\n",
    "                        tmp_o_vec[3,0]=u*(1-v)*w\n",
    "                    if idx_nbgr==5:\n",
    "                        tmp_o_vec[4,0]=(1-u)*v*(1-w)\n",
    "                    if idx_nbgr==6:\n",
    "                        tmp_o_vec[5,0]=u*v*(1-w)\n",
    "                    if idx_nbgr==7:\n",
    "                        tmp_o_vec[6,0]=(1-u)*(1-v)*(1-w)\n",
    "                    if idx_nbgr==8:\n",
    "                        tmp_o_vec[7,0]=u*(1-v)*(1-w)\n",
    "                        \n",
    "                \n",
    "                \n",
    "                \n",
    "                o_s[cpt_p]=tmp_o_vec.clone()\n",
    "\n",
    "                ancestor=node[:-2]\n",
    "                \n",
    "                \n",
    "                if ancestor==\"\":\n",
    "                    ancestor=node\n",
    "\n",
    "                if ancestor in L_indexes:\n",
    "                    L_indexes[ancestor][0].append(cpt_p)\n",
    "                else:\n",
    "                    _,new_c,_,_,_,_=dico[ancestor]\n",
    "                    L_indexes[ancestor]=([cpt_p],new_c)\n",
    "                    \n",
    "                \n",
    "                cpt_p+=1\n",
    "    return s_p,o_s,L_indexes\n",
    "\n",
    "\n",
    "def get_V_tmp(coords_grid,l_o,l_s):\n",
    "    #q [ r_x , r_y , r_z,  3 ]\n",
    "    #     0    1     2    3\n",
    "\n",
    "    q=coords_grid.clone().unsqueeze(3).unsqueeze(4).repeat(1,1,1,l_o.shape[0],8,1).to(device) \n",
    "    #q [ r_x , r_y , r_z, l_o , 8 , 3 ]\n",
    "    #     0     1     2    3    4   5\n",
    "\n",
    "    q[:,:,:,:,:,0]-=l_o[:,:,2]\n",
    "    q[:,:,:,:,:,0]/=l_o[:,:,1]\n",
    "    q[:,:,:,:,:,1]-=l_o[:,:,3]\n",
    "    q[:,:,:,:,:,1]/=l_o[:,:,1]\n",
    "    q[:,:,:,:,:,2]-=l_o[:,:,4]\n",
    "    q[:,:,:,:,:,2]/=l_o[:,:,1]\n",
    "    \n",
    "    test=torch.exp(-torch.sum((q)**2,dim=5)/(1.5**2))/l_o[:,:,1]**3\n",
    "    \n",
    "    \n",
    "    test=test*l_o[:,:,0]\n",
    "    \n",
    "\n",
    "    res=l_s[:,3:].clone().unsqueeze(1).unsqueeze(0).unsqueeze(0).unsqueeze(0).to(device) \n",
    "    res=res.repeat(coords_grid.shape[0],coords_grid.shape[1],coords_grid.shape[2],1,8,1).to(device) \n",
    "    \n",
    "\n",
    "\n",
    "\n",
    "    res[:,:,:,:,0,0]*=test[:,:,:,:,0]\n",
    "    res[:,:,:,:,0,1]*=test[:,:,:,:,0]\n",
    "    res[:,:,:,:,0,2]*=test[:,:,:,:,0]\n",
    "    res[:,:,:,:,1,0]*=test[:,:,:,:,1]\n",
    "    res[:,:,:,:,1,1]*=test[:,:,:,:,1]\n",
    "    res[:,:,:,:,1,2]*=test[:,:,:,:,1]\n",
    "    res[:,:,:,:,2,0]*=test[:,:,:,:,2]\n",
    "    res[:,:,:,:,2,1]*=test[:,:,:,:,2]\n",
    "    res[:,:,:,:,2,2]*=test[:,:,:,:,2]\n",
    "    res[:,:,:,:,3,0]*=test[:,:,:,:,3]\n",
    "    res[:,:,:,:,3,1]*=test[:,:,:,:,3]\n",
    "    res[:,:,:,:,3,2]*=test[:,:,:,:,3]\n",
    "    res[:,:,:,:,4,0]*=test[:,:,:,:,4]\n",
    "    res[:,:,:,:,4,1]*=test[:,:,:,:,4]\n",
    "    res[:,:,:,:,4,2]*=test[:,:,:,:,4]\n",
    "    res[:,:,:,:,5,0]*=test[:,:,:,:,5]\n",
    "    res[:,:,:,:,5,1]*=test[:,:,:,:,5]\n",
    "    res[:,:,:,:,5,2]*=test[:,:,:,:,5]\n",
    "    res[:,:,:,:,6,0]*=test[:,:,:,:,6]\n",
    "    res[:,:,:,:,6,1]*=test[:,:,:,:,6]\n",
    "    res[:,:,:,:,6,2]*=test[:,:,:,:,6]\n",
    "    res[:,:,:,:,7,0]*=test[:,:,:,:,7]\n",
    "    res[:,:,:,:,7,1]*=test[:,:,:,:,7]\n",
    "    res[:,:,:,:,7,2]*=test[:,:,:,:,7]\n",
    "\n",
    "    \n",
    "    \n",
    "    res=torch.sum(res,dim=(3,4)).to(device) \n",
    "   \n",
    "    \n",
    "    return res\n",
    "    \n",
    "    #q_vec=torch.where( (q_vec>=0)&(q_vec<100), )\n"
   ]
  },
  {
   "cell_type": "markdown",
   "metadata": {},
   "source": [
    "# Computation of the vector field"
   ]
  },
  {
   "cell_type": "code",
   "execution_count": 7,
   "metadata": {},
   "outputs": [],
   "source": [
    "#l_s,l_o=get_os(s_p.shape[0],dico,D)\n",
    "\n",
    "def get_V_vec(points_c,dico,D,batch_size=32,bgrid=32,resolution=32,desc=None,name=None):\n",
    "    \n",
    "    l_s,l_o,indexes=get_os(points_c.shape[0],dico,D)\n",
    "\n",
    "    #batch_size=32\n",
    "    #bgrid=32\n",
    "\n",
    "    \n",
    "\n",
    "    min_x=torch.min(points_c[:,0]).item()\n",
    "    max_x=torch.max(points_c[:,0]).item()\n",
    "    min_y=torch.min(points_c[:,1]).item()\n",
    "    max_y=torch.max(points_c[:,1]).item()\n",
    "    min_z=torch.min(points_c[:,2]).item()\n",
    "    max_z=torch.max(points_c[:,2]).item()\n",
    "    \n",
    "    \n",
    "    width_x=max_x-min_x\n",
    "    width_y=max_y-min_y\n",
    "    width_z=max_z-min_z\n",
    "\n",
    "    size_grid_x=width_x/resolution\n",
    "    size_grid_y=width_y/resolution\n",
    "    size_grid_z=width_z/resolution\n",
    "    \n",
    "    x_range=torch.linspace(min_x,max_x,resolution)\n",
    "    y_range=torch.linspace(min_y,max_y,resolution)\n",
    "    z_range=torch.linspace(min_z,max_z,resolution)\n",
    "\n",
    "    grid_coords=torch.zeros((resolution,resolution,resolution,3))\n",
    "    grid_res=torch.zeros((resolution,resolution,resolution,3))\n",
    "    \n",
    "    grid_x, grid_y, grid_z = torch.meshgrid(x_range, y_range, z_range, indexing='ij')\n",
    "\n",
    "    grid_coords[:,:,:,0]=grid_x\n",
    "    grid_coords[:,:,:,1]=grid_y\n",
    "    grid_coords[:,:,:,2]=grid_z\n",
    "    \n",
    "    \n",
    "\n",
    "    \n",
    "\n",
    "    \n",
    "    for key in tqdm(indexes,desc=desc):\n",
    "        tmp_l,tmp_c=indexes[key]\n",
    "        for i in range(0,len(tmp_l),batch_size):\n",
    "\n",
    "           \n",
    "\n",
    "         \n",
    "\n",
    "            batch_idxs=tmp_l[i:i+batch_size]\n",
    "            \n",
    "\n",
    "            tmp_l_s=l_s[batch_idxs].to(device) \n",
    "            tmp_l_o=l_o[batch_idxs].to(device)\n",
    "    \n",
    "            c_x_g = ((torch.min(tmp_l_s[:,0]) - min_x) / size_grid_x).to(torch.int)\n",
    "            c_y_g = ((torch.min(tmp_l_s[:,1]) - min_y) / size_grid_y).to(torch.int)\n",
    "            c_z_g = ((torch.min(tmp_l_s[:,2]) - min_z) / size_grid_z).to(torch.int)\n",
    "\n",
    "            c_x_d = ((torch.max(tmp_l_s[:,0]) - min_x) / size_grid_x).to(torch.int)+bgrid\n",
    "            c_y_d = ((torch.max(tmp_l_s[:,1]) - min_y) / size_grid_y).to(torch.int)+bgrid\n",
    "            c_z_d = ((torch.max(tmp_l_s[:,2]) - min_z) / size_grid_z).to(torch.int)+bgrid\n",
    "\n",
    "            c_x_g=max(0,c_x_g-bgrid)\n",
    "            c_y_g=max(0,c_y_g-bgrid)\n",
    "            c_z_g=max(0,c_z_g-bgrid)\n",
    "            \n",
    "            tmp_grid=grid_coords[c_x_g:c_x_d,c_y_g:c_y_d,c_z_g:c_z_d].to(device)\n",
    "            tmp_res=get_V_tmp(tmp_grid,tmp_l_o,tmp_l_s).detach().cpu()\n",
    "            grid_res[c_x_g:c_x_d,c_y_g:c_y_d,c_z_g:c_z_d]+=tmp_res\n",
    "                \n",
    "            \n",
    "    \n",
    "               \n",
    "                \n",
    "       \n",
    "            \n",
    "    \n",
    "    torch.cuda.empty_cache()\n",
    "    gc.collect()\n",
    "\n",
    "    if name!=None:\n",
    "        np.save(name,grid_res.numpy().astype(np.single))\n",
    "    else:\n",
    "        return grid_res\n",
    "        \n",
    "    \n",
    "\n",
    "      \n",
    "#values=get_V_vec(points_c,dico,D=3)   "
   ]
  },
  {
   "cell_type": "markdown",
   "metadata": {},
   "source": [
    "# Computation of the Divergence."
   ]
  },
  {
   "cell_type": "code",
   "execution_count": 8,
   "metadata": {},
   "outputs": [],
   "source": [
    "def compute_divergence(V):\n",
    "    # Initialize the divergence tensor with the same spatial dimensions, but only one channel\n",
    "    div_V = torch.zeros((V.shape[0], V.shape[1], V.shape[2]))\n",
    "    \n",
    "    # Compute the x-component of the divergence using central differences\n",
    "    # For the borders, you can use forward or backward differences\n",
    "    div_V[1:-1, :,:] += (V[2:, :,:, 0] - V[:-2, :,:, 0]) / 2\n",
    "    \n",
    "    # Compute the y-component of the divergence using central differences\n",
    "    # For the borders, you can use forward or backward differences\n",
    "    div_V[:, 1:-1,:] += (V[:, 2:,:, 1] - V[:, :-2,:, 1]) / 2\n",
    "    div_V[:, :,1:-1] += (V[:,: ,2:, 2] - V[:, :, :-2, 2]) / 2\n",
    "    \n",
    "    \n",
    "    # Handle the borders if necessary (here we assume a zero-gradient boundary condition)\n",
    "    # This can be replaced with a more appropriate condition for your specific case\n",
    "    div_V[0, :,:] += (V[1, :,:, 0] - V[0, :,:, 0])\n",
    "    div_V[-1, :,:] += (V[-1, :,:, 0] - V[-2, :,:, 0])\n",
    "    div_V[:, 0,:] += (V[:, 1,:, 1] - V[:, 0,:, 1])\n",
    "    div_V[:, -1,:] += (V[:, -1,:, 1] - V[:, -2,:, 1])\n",
    "    div_V[:,:, 0] += (V[:, :,1, 1] - V[:,:, 0, 1])\n",
    "    div_V[:,:, -1] += (V[:, :,-1, 1] - V[:,:, -2, 1])\n",
    "\n",
    "    return div_V\n",
    "\n",
    "    "
   ]
  },
  {
   "cell_type": "code",
   "execution_count": 9,
   "metadata": {},
   "outputs": [],
   "source": [
    "def get_V_cascade(l_d,points_c,dico):\n",
    "    res=dict()\n",
    "\n",
    "    for d in l_d:\n",
    "        bs=4\n",
    "        grid_bsize=128\n",
    "       \n",
    "        if d <=5:\n",
    "            bs=128\n",
    "            grid_bsize=64\n",
    "            \n",
    "        if d ==6:\n",
    "            bs=32\n",
    "            grid_bsize=64\n",
    "\n",
    "        if d ==7:\n",
    "            bs=16\n",
    "            grid_bsize=64\n",
    "      \n",
    "        \n",
    "        resolution=max(2**d,64)\n",
    "        values=get_V_vec(points_c,dico,D=d,batch_size=bs,bgrid=bs,resolution=resolution,desc=\"Computation of V \"+str(d))   \n",
    "        grad=compute_divergence(values)\n",
    "        res[d]=grad.detach().cpu()\n",
    "\n",
    "        torch.cuda.empty_cache()\n",
    "        gc.collect()\n",
    "    return res\n",
    "        "
   ]
  },
  {
   "cell_type": "code",
   "execution_count": 32,
   "metadata": {},
   "outputs": [
    {
     "name": "stderr",
     "output_type": "stream",
     "text": [
      "Computation of V 0:  75%|██████████████████▊      | 6/8 [00:42<00:14,  7.08s/it]\n"
     ]
    },
    {
     "ename": "KeyboardInterrupt",
     "evalue": "",
     "output_type": "error",
     "traceback": [
      "\u001b[0;31m---------------------------------------------------------------------------\u001b[0m",
      "\u001b[0;31mKeyboardInterrupt\u001b[0m                         Traceback (most recent call last)",
      "Cell \u001b[0;32mIn[32], line 1\u001b[0m\n\u001b[0;32m----> 1\u001b[0m dico_grad\u001b[38;5;241m=\u001b[39m\u001b[43mget_V_cascade\u001b[49m\u001b[43m(\u001b[49m\u001b[43m[\u001b[49m\u001b[38;5;241;43m0\u001b[39;49m\u001b[43m,\u001b[49m\u001b[38;5;241;43m1\u001b[39;49m\u001b[43m,\u001b[49m\u001b[38;5;241;43m2\u001b[39;49m\u001b[43m,\u001b[49m\u001b[38;5;241;43m3\u001b[39;49m\u001b[43m]\u001b[49m\u001b[43m,\u001b[49m\u001b[43mpoints_c\u001b[49m\u001b[43m,\u001b[49m\u001b[43mdico\u001b[49m\u001b[43m)\u001b[49m\n",
      "Cell \u001b[0;32mIn[9], line 22\u001b[0m, in \u001b[0;36mget_V_cascade\u001b[0;34m(l_d, points_c, dico)\u001b[0m\n\u001b[1;32m     18\u001b[0m     grid_bsize\u001b[38;5;241m=\u001b[39m\u001b[38;5;241m64\u001b[39m\n\u001b[1;32m     21\u001b[0m resolution\u001b[38;5;241m=\u001b[39m\u001b[38;5;28mmax\u001b[39m(\u001b[38;5;241m2\u001b[39m\u001b[38;5;241m*\u001b[39m\u001b[38;5;241m*\u001b[39md,\u001b[38;5;241m64\u001b[39m)\n\u001b[0;32m---> 22\u001b[0m values\u001b[38;5;241m=\u001b[39m\u001b[43mget_V_vec\u001b[49m\u001b[43m(\u001b[49m\u001b[43mpoints_c\u001b[49m\u001b[43m,\u001b[49m\u001b[43mdico\u001b[49m\u001b[43m,\u001b[49m\u001b[43mD\u001b[49m\u001b[38;5;241;43m=\u001b[39;49m\u001b[43md\u001b[49m\u001b[43m,\u001b[49m\u001b[43mbatch_size\u001b[49m\u001b[38;5;241;43m=\u001b[39;49m\u001b[43mbs\u001b[49m\u001b[43m,\u001b[49m\u001b[43mbgrid\u001b[49m\u001b[38;5;241;43m=\u001b[39;49m\u001b[43mbs\u001b[49m\u001b[43m,\u001b[49m\u001b[43mresolution\u001b[49m\u001b[38;5;241;43m=\u001b[39;49m\u001b[43mresolution\u001b[49m\u001b[43m,\u001b[49m\u001b[43mdesc\u001b[49m\u001b[38;5;241;43m=\u001b[39;49m\u001b[38;5;124;43m\"\u001b[39;49m\u001b[38;5;124;43mComputation of V \u001b[39;49m\u001b[38;5;124;43m\"\u001b[39;49m\u001b[38;5;241;43m+\u001b[39;49m\u001b[38;5;28;43mstr\u001b[39;49m\u001b[43m(\u001b[49m\u001b[43md\u001b[49m\u001b[43m)\u001b[49m\u001b[43m)\u001b[49m   \n\u001b[1;32m     23\u001b[0m grad\u001b[38;5;241m=\u001b[39mcompute_divergence(values)\n\u001b[1;32m     24\u001b[0m res[d]\u001b[38;5;241m=\u001b[39mgrad\u001b[38;5;241m.\u001b[39mdetach()\u001b[38;5;241m.\u001b[39mcpu()\n",
      "Cell \u001b[0;32mIn[7], line 73\u001b[0m, in \u001b[0;36mget_V_vec\u001b[0;34m(points_c, dico, D, batch_size, bgrid, resolution, desc, name)\u001b[0m\n\u001b[1;32m     70\u001b[0m         c_z_g\u001b[38;5;241m=\u001b[39m\u001b[38;5;28mmax\u001b[39m(\u001b[38;5;241m0\u001b[39m,c_z_g\u001b[38;5;241m-\u001b[39mbgrid)\n\u001b[1;32m     72\u001b[0m         tmp_grid\u001b[38;5;241m=\u001b[39mgrid_coords[c_x_g:c_x_d,c_y_g:c_y_d,c_z_g:c_z_d]\u001b[38;5;241m.\u001b[39mto(device)\n\u001b[0;32m---> 73\u001b[0m         tmp_res\u001b[38;5;241m=\u001b[39m\u001b[43mget_V_tmp\u001b[49m\u001b[43m(\u001b[49m\u001b[43mtmp_grid\u001b[49m\u001b[43m,\u001b[49m\u001b[43mtmp_l_o\u001b[49m\u001b[43m,\u001b[49m\u001b[43mtmp_l_s\u001b[49m\u001b[43m)\u001b[49m\u001b[38;5;241;43m.\u001b[39;49m\u001b[43mdetach\u001b[49m\u001b[43m(\u001b[49m\u001b[43m)\u001b[49m\u001b[38;5;241;43m.\u001b[39;49m\u001b[43mcpu\u001b[49m\u001b[43m(\u001b[49m\u001b[43m)\u001b[49m\n\u001b[1;32m     74\u001b[0m         grid_res[c_x_g:c_x_d,c_y_g:c_y_d,c_z_g:c_z_d]\u001b[38;5;241m+\u001b[39m\u001b[38;5;241m=\u001b[39mtmp_res\n\u001b[1;32m     83\u001b[0m torch\u001b[38;5;241m.\u001b[39mcuda\u001b[38;5;241m.\u001b[39mempty_cache()\n",
      "\u001b[0;31mKeyboardInterrupt\u001b[0m: "
     ]
    }
   ],
   "source": [
    "dico_grad=get_V_cascade([0,1,2,3],points_c,dico)"
   ]
  },
  {
   "cell_type": "code",
   "execution_count": 16,
   "metadata": {},
   "outputs": [
    {
     "data": {
      "image/png": "[encoded data removed]",
      "text/plain": [
       "<Figure size 1200x1200 with 4 Axes>"
      ]
     },
     "metadata": {},
     "output_type": "display_data"
    }
   ],
   "source": [
    "axs = (plt.figure(constrained_layout=True,figsize=(1000//80,1000//80))\n",
    "       .subplots(1, 4, sharex=False, sharey=False))\n",
    "\n",
    "\n",
    "slice=32\n",
    "axs[0].imshow(dico_grad[3][:,:,slice],cmap=\"gray\")\n",
    "axs[0].set_title('$V_{D=3}$')\n",
    "axs[0].set_axis_off()\n",
    "axs[1].imshow(dico_grad[4][:,:,slice],cmap=\"gray\")\n",
    "axs[1].set_title('$V_{D=4}$')\n",
    "axs[1].set_axis_off()\n",
    "axs[2].imshow(dico_grad[5][:,:,slice],cmap=\"gray\")\n",
    "axs[2].set_title('$V_{D=5}$')\n",
    "axs[2].set_axis_off()\n",
    "axs[3].imshow(dico_grad[6][:,:,slice],cmap=\"gray\")\n",
    "axs[3].set_title('$V_{D=6}$')\n",
    "axs[3].set_axis_off()\n"
   ]
  },
  {
   "cell_type": "markdown",
   "metadata": {},
   "source": [
    "# List of Gaussian kernels"
   ]
  },
  {
   "cell_type": "code",
   "execution_count": 20,
   "metadata": {},
   "outputs": [],
   "source": [
    "def get_list_gaussians(l_d,dico):\n",
    "    res=dict()\n",
    "\n",
    "    for node in tqdm(dico):\n",
    "        depth,o_c,o_w,border,border_father,l_points=dico[node]\n",
    "\n",
    "        tmp_vec=torch.zeros((1,4))\n",
    "        tmp_vec[0,:3]=o_c.clone()\n",
    "        tmp_vec[0,3]=o_w\n",
    "        if depth in l_d:\n",
    "            \n",
    "            if depth in res:\n",
    "                res[depth] = torch.cat((res[depth],tmp_vec), dim=0)\n",
    "            else:\n",
    "                res[depth]=torch.empty(0,4)\n",
    "                res[depth] = torch.cat((res[depth],tmp_vec), dim=0)\n",
    "    return res\n",
    "        \n",
    "        "
   ]
  },
  {
   "cell_type": "code",
   "execution_count": 21,
   "metadata": {},
   "outputs": [
    {
     "name": "stderr",
     "output_type": "stream",
     "text": [
      "100%|████████████████████████████████| 151232/151232 [00:03<00:00, 45450.32it/s]\n"
     ]
    }
   ],
   "source": [
    "dico_gaussians=get_list_gaussians([1,2,3],dico)"
   ]
  },
  {
   "cell_type": "markdown",
   "metadata": {},
   "source": [
    "# Computation of < B , V >"
   ]
  },
  {
   "cell_type": "code",
   "execution_count": 22,
   "metadata": {},
   "outputs": [],
   "source": [
    "def get_inner_product_gradVB_batched(V, L_gaussians, borders, batch_size=64,desc=None):\n",
    "    V=V.to(device)\n",
    "    # Assuming points_c is defined elsewhere and available here\n",
    "    min_x = torch.min(points_c[:, 0]).item()\n",
    "    max_x = torch.max(points_c[:, 0]).item()\n",
    "    min_y = torch.min(points_c[:, 1]).item()\n",
    "    max_y = torch.max(points_c[:, 1]).item()\n",
    "    min_z = torch.min(points_c[:, 2]).item()\n",
    "    max_z = torch.max(points_c[:, 2]).item()\n",
    "\n",
    "    w_x = max_x - min_x\n",
    "    w_y = max_y - min_y\n",
    "    w_z = max_z - min_z\n",
    "\n",
    "    resolution = V.shape[0]\n",
    "\n",
    "    x_range = torch.linspace(min_x, max_x, resolution)\n",
    "    y_range = torch.linspace(min_y, max_y, resolution)\n",
    "    z_range = torch.linspace(min_z, max_z, resolution)\n",
    "\n",
    "    grid_x, grid_y, grid_z = torch.meshgrid(x_range, y_range, z_range, indexing='ij')\n",
    "    \n",
    "    # Pre-compute the grid coordinates\n",
    "    grid_coords = torch.stack([grid_x, grid_y, grid_z], dim=-1).to(device)\n",
    "\n",
    "    res = torch.empty(L_gaussians.shape[0], device=device)\n",
    "    \n",
    "    num_batches = (L_gaussians.shape[0] + batch_size - 1) // batch_size\n",
    "\n",
    "    for b in tqdm(range(num_batches),desc=desc):\n",
    "        start_idx = b * batch_size\n",
    "        end_idx = min((b + 1) * batch_size, L_gaussians.shape[0])\n",
    "        batch = L_gaussians[start_idx:end_idx].to(device)\n",
    "\n",
    "        tmp_sum_g = ((grid_coords[..., 0:1] - batch[:, 0:1].T) / batch[:, 3:4].T) ** 2\n",
    "        tmp_sum_g += ((grid_coords[..., 1:2] - batch[:, 1:2].T) / batch[:, 3:4].T) ** 2\n",
    "        tmp_sum_g += ((grid_coords[..., 2:3] - batch[:, 2:3].T) / batch[:, 3:4].T) ** 2\n",
    "        \n",
    "        tmp_sum_g = torch.exp(-(tmp_sum_g / (1.5 ** 2))) / batch[:, 3:4].T ** 3\n",
    "        tmp_sum_g = tmp_sum_g * V.unsqueeze(-1)  # Add an extra dimension for broadcasting\n",
    "\n",
    "        # Sum over the grid dimensions and multiply by volume element\n",
    "        tmp_sum_g = torch.sum(tmp_sum_g, dim=(0, 1, 2)) * ((w_x * w_y * w_z) / resolution ** 3)\n",
    "        res[start_idx:end_idx] = tmp_sum_g.detach().cpu()\n",
    "\n",
    "    # Cleanup\n",
    "    V = V.detach().cpu()\n",
    "    L_gaussians = L_gaussians.detach().cpu()\n",
    "    torch.cuda.empty_cache()\n",
    "    gc.collect()\n",
    "\n",
    "    return res\n",
    "\n",
    "def get_VB_d(dico_grad,dico_gaussians,bord):\n",
    "    res_Vo=dict()\n",
    "\n",
    "    for d in dico_grad:\n",
    "        tmp_V=dico_grad[d]\n",
    "        if not d in dico_gaussians:\n",
    "            continue\n",
    "        tmp_L_gauss=dico_gaussians[d]\n",
    "        V_o=get_inner_product_gradVB_batched(tmp_V,tmp_L_gauss,bord,desc=\"Computation of V_o D=\"+str(d))\n",
    "        res_Vo[d]=V_o.view((V_o.shape[0],1))\n",
    "        \n",
    "    return res_Vo\n",
    "        "
   ]
  },
  {
   "cell_type": "code",
   "execution_count": 23,
   "metadata": {},
   "outputs": [
    {
     "name": "stderr",
     "output_type": "stream",
     "text": [
      "Computation of V_o D=1: 100%|████████████████████| 1/1 [00:00<00:00, 367.08it/s]\n",
      "Computation of V_o D=2: 100%|████████████████████| 5/5 [00:00<00:00, 596.37it/s]\n",
      "Computation of V_o D=3: 100%|██████████████████| 17/17 [00:00<00:00, 248.04it/s]\n"
     ]
    }
   ],
   "source": [
    "dico_VB_d=get_VB_d(dico_grad,dico_gaussians,bord)"
   ]
  },
  {
   "cell_type": "markdown",
   "metadata": {},
   "source": [
    "# Computation of < B'' , B >"
   ]
  },
  {
   "cell_type": "code",
   "execution_count": 24,
   "metadata": {},
   "outputs": [],
   "source": [
    "def get_indexes_BB(tmp_ker,L_gaussians):\n",
    "    tmp_L_g=L_gaussians.clone()\n",
    "    \n",
    "    tmp_L_g=torch.sqrt(torch.sum((tmp_L_g[:,:3]-tmp_ker[:3])**2,dim=(1)))/tmp_ker[3]\n",
    "    b= tmp_L_g <=12\n",
    "\n",
    "    return b.nonzero().flatten()\n",
    "\n",
    "\n",
    "def get_vec_idxs(L_gaussians_d,L_gaussians_d_prime):\n",
    "    vec_ixds=torch.empty((0,2))\n",
    "    \n",
    "    for idx_gaussian_1 in range(L_gaussians_d.shape[0]):\n",
    "        indexes=None\n",
    "        \n",
    "        indexes=get_indexes_BB(L_gaussians_d[idx_gaussian_1],L_gaussians_d_prime)\n",
    "            \n",
    "        tmp_list=torch.zeros((indexes.shape[0],2))\n",
    "        tmp_list[:,1]=idx_gaussian_1\n",
    "        tmp_list[:,0]=indexes\n",
    "        vec_ixds=torch.cat((vec_ixds,tmp_list),0)\n",
    "\n",
    "    return vec_ixds\n"
   ]
  },
  {
   "cell_type": "code",
   "execution_count": 25,
   "metadata": {},
   "outputs": [],
   "source": [
    "def get_inner_product_gradB_B_sparse_vec(size_grid,vec_ixds, L_d,L_d_prime, borders):\n",
    "    \n",
    "    sparse_indexes = torch.empty((2,0))\n",
    "    sparse_values  = torch.empty(0)\n",
    "\n",
    "    batch_size=256\n",
    "\n",
    "    min_x=borders[0].item()\n",
    "    max_x=borders[1].item()\n",
    "    min_y=borders[2].item()\n",
    "    max_y=borders[3].item()\n",
    "    min_z=borders[4].item()\n",
    "    max_z=borders[5].item()\n",
    "\n",
    "    width_x = max_x - min_x\n",
    "    width_y = max_y - min_y\n",
    "    width_z = max_z - min_z\n",
    "\n",
    "    xs = torch.linspace(min_x - width_x , max_x + width_x , steps=size_grid)\n",
    "    ys = torch.linspace(min_y - width_y , max_y + width_y , steps=size_grid)\n",
    "    zs = torch.linspace(min_z - width_z , max_z + width_z , steps=size_grid)\n",
    "    \n",
    "    x, y, z = torch.meshgrid(xs, ys, zs, indexing='xy')\n",
    "\n",
    "    grid = torch.empty(size_grid, size_grid, size_grid, 3)\n",
    "    grid[:, :, :, 0] = x\n",
    "    grid[:, :, :, 1] = y\n",
    "    grid[:, :, :, 2] = z\n",
    "\n",
    "    \n",
    "\n",
    "    \n",
    "    \n",
    "    for batch in tqdm(range(0,vec_ixds.shape[0],batch_size)):\n",
    "\n",
    "        \n",
    "        Width_d=L_d[0,3]\n",
    "        Width_d_prime=L_d_prime[0,3]\n",
    "        \n",
    "        coords_g1=L_d[vec_ixds[batch:batch+batch_size,1].to(torch.int)].to(device)\n",
    "        coords_g1=coords_g1[:,:3].unsqueeze(1).unsqueeze(1).unsqueeze(1).expand((-1,size_grid,size_grid,size_grid,-1))\n",
    "        coords_g2=L_d_prime[vec_ixds[batch:batch+batch_size,0].to(torch.int)].to(device)\n",
    "        coords_g2=coords_g2[:,:3].unsqueeze(1).unsqueeze(1).unsqueeze(1).expand((-1,size_grid,size_grid,size_grid,-1))\n",
    "\n",
    "        taille_batch = coords_g2.shape[0]\n",
    "        grid_tmp= grid.clone().to(device).unsqueeze(0).repeat((taille_batch, 1, 1, 1, 1))\n",
    "\n",
    "        \n",
    "        gauss_1=( (grid_tmp.clone()-coords_g1) / Width_d )**2\n",
    "        gauss_1= torch.exp(-torch.sum(gauss_1,dim=4)/(1.5**2))\n",
    "        gauss_1x= -(gauss_1.clone()*(grid_tmp[:, :, :, :, 0]-coords_g1[:, :, :, :, 0])/(1.5**2))/Width_d**3\n",
    "        gauss_1y= -(gauss_1.clone()*(grid_tmp[:, :, :, :, 1]-coords_g1[:, :, :, :, 1])/(1.5**2))/Width_d**3\n",
    "        gauss_1z= -(gauss_1.clone()*(grid_tmp[:, :, :, :, 2]-coords_g1[:, :, :, :, 2])/(1.5**2))/Width_d**3\n",
    "\n",
    "        gauss_2=( (grid_tmp.clone()-coords_g2) / Width_d_prime )**2\n",
    "        gauss_2= torch.exp(-torch.sum(gauss_2,dim=4)/(1.5**2))\n",
    "        gauss_2x= -((gauss_2.clone()*(grid_tmp[:, :, :, :, 0]-coords_g2[:, :, :, :, 0])/(1.5**2)))/Width_d_prime**3\n",
    "        gauss_2y= -((gauss_2.clone()*(grid_tmp[:, :, :, :, 1]-coords_g2[:, :, :, :, 1])/(1.5**2)))/Width_d_prime**3\n",
    "        gauss_2z= -((gauss_2.clone()*(grid_tmp[:, :, :, :, 2]-coords_g2[:, :, :, :, 2])/(1.5**2)))/Width_d_prime**3\n",
    "        \n",
    "\n",
    "        \n",
    "        \n",
    "        tmp_res=-torch.sum(gauss_1x*gauss_2x*((width_x*width_y*width_z)/size_grid**3),dim=(1,2,3))\n",
    "        tmp_res+=-torch.sum(gauss_1y*gauss_2y*((width_x*width_y*width_z)/size_grid**3),dim=(1,2,3))\n",
    "        tmp_res+=-torch.sum(gauss_1z*gauss_2z*((width_x*width_y*width_z)/size_grid**3),dim=(1,2,3))\n",
    "\n",
    "        \n",
    "        sparse_indexes = torch.cat((sparse_indexes,vec_ixds[batch:batch+batch_size].permute(1,0).flip([0]) ), dim=1)\n",
    "        sparse_values = torch.cat((sparse_values, tmp_res.detach().cpu()), dim=0)\n",
    "\n",
    "\n",
    "    sparse_indexes=sparse_indexes.detach().cpu()\n",
    "    sparse_values=sparse_values.detach().cpu()\n",
    "     \n",
    "    torch.cuda.empty_cache()\n",
    "    gc.collect()\n",
    "\n",
    "    return sparse_indexes, sparse_values\n",
    "\n",
    "        \n",
    "        \n",
    "\n",
    "def get_A_dd(l_d,dico_gaussians,dico_VB_d,borders):\n",
    "    res_AA=dict()\n",
    "\n",
    "    for d in l_d:\n",
    "        for d_prime in l_d:\n",
    "            \n",
    "            if d_prime > d:\n",
    "                break\n",
    "\n",
    "            \n",
    "            indexes=get_vec_idxs(dico_gaussians[d],dico_gaussians[d_prime])\n",
    "            \n",
    "\n",
    "            size_d=dico_VB_d[d].shape[0]\n",
    "            size_d_prime=dico_VB_d[d_prime].shape[0]\n",
    "\n",
    "            print(\"Computation of \"+str(d)+\"  \"+str(d_prime),\"   size d: \",size_d,\" size d_prime \",size_d_prime)\n",
    "\n",
    "            \n",
    "\n",
    "            sparse_indexes, sparse_values=get_inner_product_gradB_B_sparse_vec(64,indexes,dico_gaussians[d],dico_gaussians[d_prime], borders)\n",
    "            \n",
    "            sparse_indexes=sparse_indexes.to(int)\n",
    "            sparse_values=sparse_values\n",
    "         \n",
    "            res_AA[(d,d_prime)]=torch.sparse_coo_tensor(sparse_indexes, sparse_values,size=(size_d, size_d_prime))\n",
    "            \n",
    "            \n",
    "            \n",
    "    return res_AA\n",
    "            \n",
    "\n",
    "\n",
    "\n",
    "\n",
    "\n",
    "\n"
   ]
  },
  {
   "cell_type": "code",
   "execution_count": 26,
   "metadata": {},
   "outputs": [
    {
     "name": "stdout",
     "output_type": "stream",
     "text": [
      "Computation of 1  1    size d:  64  size d_prime  64\n"
     ]
    },
    {
     "name": "stderr",
     "output_type": "stream",
     "text": [
      "100%|███████████████████████████████████████████| 16/16 [00:01<00:00, 14.35it/s]\n"
     ]
    },
    {
     "name": "stdout",
     "output_type": "stream",
     "text": [
      "Computation of 2  1    size d:  272  size d_prime  64\n"
     ]
    },
    {
     "name": "stderr",
     "output_type": "stream",
     "text": [
      "100%|███████████████████████████████████████████| 68/68 [00:04<00:00, 14.99it/s]\n"
     ]
    },
    {
     "name": "stdout",
     "output_type": "stream",
     "text": [
      "Computation of 2  2    size d:  272  size d_prime  272\n"
     ]
    },
    {
     "name": "stderr",
     "output_type": "stream",
     "text": [
      "100%|█████████████████████████████████████████| 289/289 [00:13<00:00, 21.47it/s]\n"
     ]
    },
    {
     "name": "stdout",
     "output_type": "stream",
     "text": [
      "Computation of 3  1    size d:  1056  size d_prime  64\n"
     ]
    },
    {
     "name": "stderr",
     "output_type": "stream",
     "text": [
      "100%|█████████████████████████████████████████| 198/198 [00:09<00:00, 21.66it/s]\n"
     ]
    },
    {
     "name": "stdout",
     "output_type": "stream",
     "text": [
      "Computation of 3  2    size d:  1056  size d_prime  272\n"
     ]
    },
    {
     "name": "stderr",
     "output_type": "stream",
     "text": [
      "100%|█████████████████████████████████████████| 966/966 [00:43<00:00, 22.21it/s]\n"
     ]
    },
    {
     "name": "stdout",
     "output_type": "stream",
     "text": [
      "Computation of 3  3    size d:  1056  size d_prime  1056\n"
     ]
    },
    {
     "name": "stderr",
     "output_type": "stream",
     "text": [
      "100%|███████████████████████████████████████| 3933/3933 [03:00<00:00, 21.80it/s]\n"
     ]
    }
   ],
   "source": [
    "dico_AA=get_A_dd([1,2,3],dico_gaussians,dico_VB_d,bord)\n",
    "#loo_indexes,loo_values=get_inner_product_gradB_B_sparse_vec(8,vec_ixds, L_gaussians, bord,Depth_gauss)\n",
    "#loo_indexes,loo_values=get_Loo(L_gaussians,Depth_gauss,bord)"
   ]
  },
  {
   "cell_type": "markdown",
   "metadata": {},
   "source": [
    "# Linear system solving"
   ]
  },
  {
   "cell_type": "code",
   "execution_count": 27,
   "metadata": {},
   "outputs": [],
   "source": [
    "def call_b(xk):\n",
    "    print(xk.mean())\n",
    "    \n",
    "from scipy.sparse.linalg import cg\n",
    "def get_x(ld,dico_AA,dico_VB):\n",
    "    res_x=dict()\n",
    "\n",
    "    for d in ld:\n",
    "        for d_prime in ld:\n",
    "            if d_prime>=d:\n",
    "                break\n",
    "            tmp_vb=dico_VB[d].to(device)\n",
    "            tmp_add=dico_AA[(d,d_prime)].to(device)\n",
    "            tmp_x=res_x[d_prime].to(device)\n",
    "            dico_VB[d]=tmp_vb.to(device)-torch.mm(tmp_add,tmp_x)\n",
    "\n",
    "        tmp_A=dico_AA[(d,d)]\n",
    "        tmp_values=tmp_A._values().clone().detach().cpu().numpy()\n",
    "        tmp_indexes=tmp_A._indices().clone().detach().cpu().numpy()\n",
    "        A=scipy.sparse.coo_matrix((tmp_values, tmp_indexes), shape=(tmp_A.shape[0],tmp_A.shape[1]))\n",
    "        B=dico_VB[d].detach().cpu().clone().numpy()\n",
    "\n",
    "        initial_guess=None\n",
    "        \n",
    "            \n",
    "        eps, exit_code = cg(A, B ,tol=1e-3)\n",
    "        print(\"exit code at \",d,\"   \",exit_code)\n",
    "        res_x[d]=torch.from_numpy(eps).view((eps.shape[0],1))\n",
    "    return res_x\n",
    "        \n",
    "        \n",
    "            "
   ]
  },
  {
   "cell_type": "code",
   "execution_count": 29,
   "metadata": {},
   "outputs": [
    {
     "name": "stdout",
     "output_type": "stream",
     "text": [
      "exit code at  1     0\n",
      "exit code at  2     0\n",
      "exit code at  3     0\n"
     ]
    }
   ],
   "source": [
    "eps=get_x([1,2,3],dico_AA,dico_VB_d)"
   ]
  },
  {
   "cell_type": "code",
   "execution_count": 30,
   "metadata": {},
   "outputs": [
    {
     "name": "stderr",
     "output_type": "stream",
     "text": [
      "100%|█████████████████████████████████████████| 128/128 [00:15<00:00,  8.33it/s]\n",
      "100%|████████████████████████████████████| 35947/35947 [00:36<00:00, 988.80it/s]"
     ]
    },
    {
     "name": "stdout",
     "output_type": "stream",
     "text": [
      "tensor(-4.8225e+11)\n"
     ]
    },
    {
     "name": "stderr",
     "output_type": "stream",
     "text": [
      "\n"
     ]
    }
   ],
   "source": [
    "#grid resolution\n",
    "n_p=128\n",
    "\n",
    "min_x=torch.min(points_c[:,0]).item()\n",
    "max_x=torch.max(points_c[:,0]).item()\n",
    "min_y=torch.min(points_c[:,1]).item()\n",
    "max_y=torch.max(points_c[:,1]).item()\n",
    "min_z=torch.min(points_c[:,2]).item()\n",
    "max_z=torch.max(points_c[:,2]).item()\n",
    "\n",
    "width_x=max_x-min_x\n",
    "width_y=max_y-min_y\n",
    "width_z=max_y-min_z\n",
    "\n",
    "image_res=torch.zeros((n_p,n_p,n_p))\n",
    "\n",
    "xs = torch.linspace(min_x - width_x * 0.125, max_x + width_x * 0.125, steps=n_p)\n",
    "ys = torch.linspace(min_y - width_y * 0.125, max_y + width_y * 0.125, steps=n_p)\n",
    "zs = torch.linspace(min_z - width_z * 0.125, max_z + width_z * 0.125, steps=n_p)\n",
    "\n",
    "x, y, z = torch.meshgrid(xs, ys, zs, indexing='xy')\n",
    "\n",
    "grid = torch.empty(n_p, n_p, n_p, 3)\n",
    "grid[:, :, :, 0] = x\n",
    "grid[:, :, :, 1] = y\n",
    "grid[:, :, :, 2] = z\n",
    "\n",
    "\n",
    "def get_X(x,l_g,q):\n",
    "    \n",
    "    res=torch.sum(torch.exp((-torch.sum(((q.to(device)-l_g[:,:3]).to(device)/l_g[0,3].to(device))**2,dim=1))/1.5**2)*x)\n",
    "    \n",
    "    \n",
    "    return res\n",
    "        \n",
    "\n",
    "\n",
    "\n",
    "\n",
    "for i in tqdm(range(xs.shape[0])):\n",
    "    for j in range(xs.shape[0]):\n",
    "        #for w in range(xs.shape[0]):\n",
    "        w=64\n",
    "        for d in dico_gaussians:\n",
    "    \n",
    "            image_res[i,j,w]+=get_X(eps[d].to(device),dico_gaussians[d].to(device),grid[i,j,w].to(device) ).detach().cpu()\n",
    "\n",
    "def get_isovalue(eps,l_g,l_p):\n",
    "     res=torch.zeros(l_p.shape)\n",
    "     for idx_p in tqdm(range(l_p.shape[0])):\n",
    "         for d in dico_gaussians:\n",
    "             tmp_p=l_p[idx_p,:3]\n",
    "             res[idx_p]+=get_X(eps[d].to(device),dico_gaussians[d].to(device),tmp_p.to(device) ).detach().cpu()\n",
    "     return res.mean()\n",
    "\n",
    "iso_val=get_isovalue(eps,dico_gaussians,points_c)\n",
    "print(iso_val)"
   ]
  },
  {
   "cell_type": "code",
   "execution_count": 31,
   "metadata": {},
   "outputs": [
    {
     "data": {
      "text/plain": [
       "<matplotlib.colorbar.Colorbar at 0x7fd970be1fd0>"
      ]
     },
     "execution_count": 31,
     "metadata": {},
     "output_type": "execute_result"
    },
    {
     "data": {
      "image/png": "[encoded data removed]",
      "text/plain": [
       "<Figure size 640x480 with 2 Axes>"
      ]
     },
     "metadata": {},
     "output_type": "display_data"
    }
   ],
   "source": [
    "slice=64\n",
    "plt.imshow(torch.flip(image_res[:,:,slice], dims=[0, 1]),cmap=\"bwr\",vmin=iso_val)\n",
    "plt.colorbar()"
   ]
  },
  {
   "cell_type": "markdown",
   "metadata": {},
   "source": [
    "# Export the isovalue as an .Obj file"
   ]
  },
  {
   "cell_type": "code",
   "execution_count": 51,
   "metadata": {},
   "outputs": [],
   "source": [
    "import numpy as np\n",
    "import mcubes\n",
    "import matplotlib.pyplot as plt\n",
    "from mpl_toolkits.mplot3d.art3d import Poly3DCollection\n",
    "\n",
    "from skimage import measure\n",
    "from skimage.draw import ellipsoid\n",
    "\n",
    "\n",
    "min_x=torch.min(points_c[:,0]).item()\n",
    "max_x=torch.max(points_c[:,0]).item()\n",
    "min_y=torch.min(points_c[:,1]).item()\n",
    "max_y=torch.max(points_c[:,1]).item()\n",
    "min_z=torch.min(points_c[:,2]).item()\n",
    "max_z=torch.max(points_c[:,2]).item()\n",
    "\n",
    "# Use marching cubes to obtain the surface mesh of these ellipsoids\n",
    "verts, faces, normals, values = measure.marching_cubes(image_res.numpy(),iso_val)\n",
    "mcubes.export_obj(verts, faces, 'dragoon_maison.obj')\n"
   ]
  },
  {
   "cell_type": "code",
   "execution_count": 50,
   "metadata": {},
   "outputs": [],
   "source": []
  },
  {
   "cell_type": "code",
   "execution_count": 16,
   "metadata": {},
   "outputs": [
    {
     "ename": "NameError",
     "evalue": "name 'image_res' is not defined",
     "output_type": "error",
     "traceback": [
      "\u001b[0;31m---------------------------------------------------------------------------\u001b[0m",
      "\u001b[0;31mNameError\u001b[0m                                 Traceback (most recent call last)",
      "Cell \u001b[0;32mIn[16], line 1\u001b[0m\n\u001b[0;32m----> 1\u001b[0m np\u001b[38;5;241m.\u001b[39msave(\u001b[38;5;124m\"\u001b[39m\u001b[38;5;124mmub.npy\u001b[39m\u001b[38;5;124m\"\u001b[39m,\u001b[43mimage_res\u001b[49m\u001b[38;5;241m.\u001b[39mnumpy()\u001b[38;5;241m.\u001b[39mastype(np\u001b[38;5;241m.\u001b[39msingle))\n",
      "\u001b[0;31mNameError\u001b[0m: name 'image_res' is not defined"
     ]
    }
   ],
   "source": []
  },
  {
   "cell_type": "code",
   "execution_count": null,
   "metadata": {},
   "outputs": [],
   "source": []
  }
 ],
 "metadata": {
  "kernelspec": {
   "display_name": "Python 3 (ipykernel)",
   "language": "python",
   "name": "python3"
  },
  "language_info": {
   "codemirror_mode": {
    "name": "ipython",
    "version": 3
   },
   "file_extension": ".py",
   "mimetype": "text/x-python",
   "name": "python",
   "nbconvert_exporter": "python",
   "pygments_lexer": "ipython3",
   "version": "3.9.2"
  }
 },
 "nbformat": 4,
 "nbformat_minor": 4
}
