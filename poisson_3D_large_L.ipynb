{
 "cells": [
  {
   "cell_type": "code",
   "execution_count": 1,
   "metadata": {},
   "outputs": [],
   "source": [
    "import torch\n",
    "import matplotlib.pyplot as plt\n",
    "import numpy as np\n",
    "import plotly.graph_objects as go\n",
    "import time\n",
    "from tqdm import tqdm\n",
    "from utils import*\n",
    "import gc\n",
    "import scipy as scipy\n",
    "\n",
    "from scipy.sparse import csc_matrix\n",
    "\n",
    "\n",
    "device = torch.device(\"cuda\" if torch.cuda.is_available() else \"cpu\")"
   ]
  },
  {
   "cell_type": "markdown",
   "metadata": {},
   "source": [
    "# .Obj file handling part"
   ]
  },
  {
   "cell_type": "code",
   "execution_count": 2,
   "metadata": {},
   "outputs": [],
   "source": [
    "points_c=get_file_obj(\"./data/bun_zipper.obj\")"
   ]
  },
  {
   "cell_type": "code",
   "execution_count": 3,
   "metadata": {},
   "outputs": [
    {
     "name": "stdout",
     "output_type": "stream",
     "text": [
      "torch.Size([35947, 6])\n"
     ]
    }
   ],
   "source": [
    "print(points_c.shape)"
   ]
  },
  {
   "cell_type": "code",
   "execution_count": 4,
   "metadata": {},
   "outputs": [
    {
     "name": "stdout",
     "output_type": "stream",
     "text": [
      "151968\n"
     ]
    }
   ],
   "source": [
    "dico=dict()\n",
    "bord=get_borders(points_c)\n",
    "\n",
    "create_quadtree(dico,0,11,points_c,bord,\"\")\n",
    "print(len(dico))"
   ]
  },
  {
   "cell_type": "code",
   "execution_count": 5,
   "metadata": {},
   "outputs": [],
   "source": [
    "bord=get_borders(points_c)"
   ]
  },
  {
   "cell_type": "code",
   "execution_count": 6,
   "metadata": {},
   "outputs": [],
   "source": [
    "def get_min_width(dico,D):\n",
    "    min_width=1e9\n",
    "    for node in dico:\n",
    "        if (dico[node][2]<min_width and dico[node][0]<=D ):\n",
    "            min_width=dico[node][2]\n",
    "    return min_width\n",
    "        \n",
    "\n",
    "def get_dico_final(dico,D):\n",
    "    new_dico=dict()\n",
    "\n",
    "    for node in dico:\n",
    "        if dico[node][0]==D or (dico[node][0]<=D and len(dico[node][-1])==1):\n",
    "\n",
    "            for i in range(1,9):\n",
    "                tmp_node=node[:-1]+str(i)\n",
    "                new_dico[tmp_node]=dico[tmp_node]\n",
    "    return new_dico\n",
    "        \n",
    "\n",
    "def get_os(nb_s,dico,D):\n",
    "    cpt_p=0\n",
    "    s_p=torch.ones((nb_s,6))\n",
    "    o_s=torch.ones((nb_s,8,5)) #interpolation weight , width , center\n",
    "    L_indexes=dict()\n",
    "    for node in dico:\n",
    "        if dico[node][0]==D or (dico[node][0]<=D and len(dico[node][-1])==1):\n",
    "            depth,o_c,o_w,border,border_father,l_points=dico[node]\n",
    "\n",
    "            for p in l_points:\n",
    "                s_p[cpt_p]=p.clone()\n",
    "\n",
    "                gx,dx,gy,dy,gz,dz=border_father\n",
    "\n",
    "                tmp_o_vec=torch.empty((8,5))\n",
    "                for idx_nbgr in range(1,9):\n",
    "                    tmp_node=node[:-1]+str(idx_nbgr)\n",
    "                    tmp_o_vec[idx_nbgr-1,1]=dico[tmp_node][2]\n",
    "                    tmp_o_vec[idx_nbgr-1,2:]=dico[tmp_node][1]\n",
    "\n",
    "                    \n",
    "\n",
    "                    u=(s_p[cpt_p,0]-gx)/(dx-gx)\n",
    "                    v=(s_p[cpt_p,1]-gy)/(dy-gy)\n",
    "                    w=(s_p[cpt_p,2]-gz)/(dz-gz)\n",
    "                    \n",
    "\n",
    "                    \n",
    "                    if idx_nbgr==1:\n",
    "                        tmp_o_vec[0,0]=(1-u)*v*w\n",
    "                    if idx_nbgr==2:\n",
    "                        tmp_o_vec[1,0]=u*v*w\n",
    "                    if idx_nbgr==3:\n",
    "                        tmp_o_vec[2,0]=(1-u)*(1-v)*w\n",
    "                    if idx_nbgr==4:\n",
    "                        tmp_o_vec[3,0]=u*(1-v)*w\n",
    "                    if idx_nbgr==5:\n",
    "                        tmp_o_vec[4,0]=(1-u)*v*(1-w)\n",
    "                    if idx_nbgr==6:\n",
    "                        tmp_o_vec[5,0]=u*v*(1-w)\n",
    "                    if idx_nbgr==7:\n",
    "                        tmp_o_vec[6,0]=(1-u)*(1-v)*(1-w)\n",
    "                    if idx_nbgr==8:\n",
    "                        tmp_o_vec[7,0]=u*(1-v)*(1-w)\n",
    "                        \n",
    "                \n",
    "                \n",
    "                \n",
    "                o_s[cpt_p]=tmp_o_vec.clone()\n",
    "\n",
    "                ancestor=node[:-2]\n",
    "                \n",
    "                \n",
    "                if ancestor==\"\":\n",
    "                    ancestor=node\n",
    "\n",
    "                if ancestor in L_indexes:\n",
    "                    L_indexes[ancestor][0].append(cpt_p)\n",
    "                else:\n",
    "                    _,new_c,_,_,_,_=dico[ancestor]\n",
    "                    L_indexes[ancestor]=([cpt_p],new_c)\n",
    "                    \n",
    "                \n",
    "                cpt_p+=1\n",
    "    return s_p,o_s,L_indexes\n",
    "\n",
    "\n",
    "def get_V_tmp(coords_grid,l_o,l_s):\n",
    "    #q [ r_x , r_y , r_z,  3 ]\n",
    "    #     0    1     2    3\n",
    "\n",
    "    q=coords_grid.clone().unsqueeze(3).unsqueeze(4).repeat(1,1,1,l_o.shape[0],8,1).to(device) \n",
    "    #q [ r_x , r_y , r_z, l_o , 8 , 3 ]\n",
    "    #     0     1     2    3    4   5\n",
    "\n",
    "    q[:,:,:,:,:,0]-=l_o[:,:,2]\n",
    "    q[:,:,:,:,:,0]/=l_o[:,:,1]\n",
    "    q[:,:,:,:,:,1]-=l_o[:,:,3]\n",
    "    q[:,:,:,:,:,1]/=l_o[:,:,1]\n",
    "    q[:,:,:,:,:,2]-=l_o[:,:,4]\n",
    "    q[:,:,:,:,:,2]/=l_o[:,:,1]\n",
    "    \n",
    "    test=torch.exp(-torch.sum((q)**2,dim=5)/(1.5**2))\n",
    "    \n",
    "    \n",
    "    test=test*l_o[:,:,0]\n",
    "    \n",
    "\n",
    "    res=l_s[:,3:].clone().unsqueeze(1).unsqueeze(0).unsqueeze(0).unsqueeze(0).to(device) \n",
    "    res=res.repeat(coords_grid.shape[0],coords_grid.shape[1],coords_grid.shape[2],1,8,1).to(device) \n",
    "    \n",
    "\n",
    "\n",
    "\n",
    "    res[:,:,:,:,0,0]*=test[:,:,:,:,0]\n",
    "    res[:,:,:,:,0,1]*=test[:,:,:,:,0]\n",
    "    res[:,:,:,:,0,2]*=test[:,:,:,:,0]\n",
    "    res[:,:,:,:,1,0]*=test[:,:,:,:,1]\n",
    "    res[:,:,:,:,1,1]*=test[:,:,:,:,1]\n",
    "    res[:,:,:,:,1,2]*=test[:,:,:,:,1]\n",
    "    res[:,:,:,:,2,0]*=test[:,:,:,:,2]\n",
    "    res[:,:,:,:,2,1]*=test[:,:,:,:,2]\n",
    "    res[:,:,:,:,2,2]*=test[:,:,:,:,2]\n",
    "    res[:,:,:,:,3,0]*=test[:,:,:,:,3]\n",
    "    res[:,:,:,:,3,1]*=test[:,:,:,:,3]\n",
    "    res[:,:,:,:,3,2]*=test[:,:,:,:,3]\n",
    "    res[:,:,:,:,4,0]*=test[:,:,:,:,4]\n",
    "    res[:,:,:,:,4,1]*=test[:,:,:,:,4]\n",
    "    res[:,:,:,:,4,2]*=test[:,:,:,:,4]\n",
    "    res[:,:,:,:,5,0]*=test[:,:,:,:,5]\n",
    "    res[:,:,:,:,5,1]*=test[:,:,:,:,5]\n",
    "    res[:,:,:,:,5,2]*=test[:,:,:,:,5]\n",
    "    res[:,:,:,:,6,0]*=test[:,:,:,:,6]\n",
    "    res[:,:,:,:,6,1]*=test[:,:,:,:,6]\n",
    "    res[:,:,:,:,6,2]*=test[:,:,:,:,6]\n",
    "    res[:,:,:,:,7,0]*=test[:,:,:,:,7]\n",
    "    res[:,:,:,:,7,1]*=test[:,:,:,:,7]\n",
    "    res[:,:,:,:,7,2]*=test[:,:,:,:,7]\n",
    "\n",
    "    \n",
    "    \n",
    "    res=torch.sum(res,dim=(3,4)).to(device) \n",
    "   \n",
    "    \n",
    "    return res\n",
    "    \n",
    "    #q_vec=torch.where( (q_vec>=0)&(q_vec<100), )\n"
   ]
  },
  {
   "cell_type": "markdown",
   "metadata": {},
   "source": [
    "# Computation of the vector field"
   ]
  },
  {
   "cell_type": "code",
   "execution_count": 13,
   "metadata": {},
   "outputs": [
    {
     "name": "stderr",
     "output_type": "stream",
     "text": [
      "100%|██████████| 8233/8233 [09:24<00:00, 14.57it/s]\n"
     ]
    }
   ],
   "source": [
    "#l_s,l_o=get_os(s_p.shape[0],dico,D)\n",
    "\n",
    "def get_V_vec(points_c,dico,D,name=None):\n",
    "    \n",
    "    l_s,l_o,indexes=get_os(points_c.shape[0],dico,D)\n",
    "\n",
    "    batch_size=16\n",
    "    bgrid=64\n",
    "\n",
    "    \n",
    "\n",
    "    min_x=torch.min(points_c[:,0]).item()\n",
    "    max_x=torch.max(points_c[:,0]).item()\n",
    "    min_y=torch.min(points_c[:,1]).item()\n",
    "    max_y=torch.max(points_c[:,1]).item()\n",
    "    min_z=torch.min(points_c[:,2]).item()\n",
    "    max_z=torch.max(points_c[:,2]).item()\n",
    "    resolution=512\n",
    "    \n",
    "    width_x=max_x-min_x\n",
    "    width_y=max_y-min_y\n",
    "    width_z=max_z-min_z\n",
    "\n",
    "    size_grid_x=width_x/resolution\n",
    "    size_grid_y=width_y/resolution\n",
    "    size_grid_z=width_z/resolution\n",
    "    \n",
    "    x_range=torch.linspace(min_x,max_x,resolution)\n",
    "    y_range=torch.linspace(min_y,max_y,resolution)\n",
    "    z_range=torch.linspace(min_z,max_z,resolution)\n",
    "\n",
    "    grid_coords=torch.zeros((resolution,resolution,resolution,3))\n",
    "    grid_res=torch.zeros((resolution,resolution,resolution,3))\n",
    "    \n",
    "    grid_x, grid_y, grid_z = torch.meshgrid(x_range, y_range, z_range, indexing='ij')\n",
    "\n",
    "    grid_coords[:,:,:,0]=grid_x\n",
    "    grid_coords[:,:,:,1]=grid_y\n",
    "    grid_coords[:,:,:,2]=grid_z\n",
    "    \n",
    "    \n",
    "\n",
    "    \n",
    "\n",
    "    \n",
    "    for key in tqdm(indexes):\n",
    "        tmp_l,tmp_c=indexes[key]\n",
    "        for i in range(0,len(tmp_l),batch_size):\n",
    "\n",
    "           \n",
    "\n",
    "         \n",
    "\n",
    "            batch_idxs=tmp_l[i:i+batch_size]\n",
    "            \n",
    "\n",
    "            tmp_l_s=l_s[batch_idxs].to(device) \n",
    "            tmp_l_o=l_o[batch_idxs].to(device)\n",
    "    \n",
    "            c_x_g = ((torch.min(tmp_l_s[:,0]) - min_x) / size_grid_x).to(torch.int)\n",
    "            c_y_g = ((torch.min(tmp_l_s[:,1]) - min_y) / size_grid_y).to(torch.int)\n",
    "            c_z_g = ((torch.min(tmp_l_s[:,2]) - min_z) / size_grid_z).to(torch.int)\n",
    "\n",
    "            c_x_d = ((torch.max(tmp_l_s[:,0]) - min_x) / size_grid_x).to(torch.int)+bgrid\n",
    "            c_y_d = ((torch.max(tmp_l_s[:,1]) - min_y) / size_grid_y).to(torch.int)+bgrid\n",
    "            c_z_d = ((torch.max(tmp_l_s[:,2]) - min_z) / size_grid_z).to(torch.int)+bgrid\n",
    "\n",
    "            c_x_g=max(0,c_x_g-bgrid)\n",
    "            c_y_g=max(0,c_y_g-bgrid)\n",
    "            c_z_g=max(0,c_z_g-bgrid)\n",
    "            \n",
    "            tmp_grid=grid_coords[c_x_g:c_x_d,c_y_g:c_y_d,c_z_g:c_z_d].to(device)\n",
    "            tmp_res=get_V_tmp(tmp_grid,tmp_l_o,tmp_l_s).detach().cpu()\n",
    "            tmp_verif=tmp_res.clone()\n",
    "            tmp_verif[1:-1,1:-1,1:-1,:]=0.0\n",
    "            if torch.sum(torch.abs(tmp_verif))>3:\n",
    "                \n",
    "                c_x_g = ((torch.min(tmp_l_s[:,0]) - min_x) / size_grid_x).to(torch.int)\n",
    "                c_y_g = ((torch.min(tmp_l_s[:,1]) - min_y) / size_grid_y).to(torch.int)\n",
    "                c_z_g = ((torch.min(tmp_l_s[:,2]) - min_z) / size_grid_z).to(torch.int)\n",
    "    \n",
    "                c_x_d = ((torch.max(tmp_l_s[:,0]) - min_x) / size_grid_x).to(torch.int)+bgrid*2\n",
    "                c_y_d = ((torch.max(tmp_l_s[:,1]) - min_y) / size_grid_y).to(torch.int)+bgrid*2\n",
    "                c_z_d = ((torch.max(tmp_l_s[:,2]) - min_z) / size_grid_z).to(torch.int)+bgrid*2\n",
    "    \n",
    "                c_x_g=max(0,c_x_g-bgrid*2)\n",
    "                c_y_g=max(0,c_y_g-bgrid*2)\n",
    "                c_z_g=max(0,c_z_g-bgrid*2)    \n",
    "            else:\n",
    "                grid_res[c_x_g:c_x_d,c_y_g:c_y_d,c_z_g:c_z_d]+=tmp_res\n",
    "            \n",
    "    \n",
    "               \n",
    "                \n",
    "       \n",
    "            \n",
    "    \n",
    "    torch.cuda.empty_cache()\n",
    "    gc.collect()\n",
    "\n",
    "    if name!=None:\n",
    "        np.save(name,grid_res.numpy().astype(np.single))\n",
    "    else:\n",
    "        return grid_res\n",
    "        \n",
    "    \n",
    "\n",
    "      \n",
    "values=get_V_vec(points_c,dico,D=8)   "
   ]
  },
  {
   "cell_type": "markdown",
   "metadata": {},
   "source": [
    "# Computation of the Divergence."
   ]
  },
  {
   "cell_type": "code",
   "execution_count": 14,
   "metadata": {},
   "outputs": [],
   "source": [
    "def compute_divergence(V):\n",
    "    # Initialize the divergence tensor with the same spatial dimensions, but only one channel\n",
    "    div_V = torch.zeros((V.shape[0], V.shape[1], V.shape[2]))\n",
    "    \n",
    "    # Compute the x-component of the divergence using central differences\n",
    "    # For the borders, you can use forward or backward differences\n",
    "    div_V[1:-1, :,:] += (V[2:, :,:, 0] - V[:-2, :,:, 0]) / 2\n",
    "    \n",
    "    # Compute the y-component of the divergence using central differences\n",
    "    # For the borders, you can use forward or backward differences\n",
    "    div_V[:, 1:-1,:] += (V[:, 2:,:, 1] - V[:, :-2,:, 1]) / 2\n",
    "    div_V[:, :,1:-1] += (V[:,: ,2:, 2] - V[:, :, :-2, 2]) / 2\n",
    "    \n",
    "    \n",
    "    # Handle the borders if necessary (here we assume a zero-gradient boundary condition)\n",
    "    # This can be replaced with a more appropriate condition for your specific case\n",
    "    div_V[0, :,:] += (V[1, :,:, 0] - V[0, :,:, 0])\n",
    "    div_V[-1, :,:] += (V[-1, :,:, 0] - V[-2, :,:, 0])\n",
    "    div_V[:, 0,:] += (V[:, 1,:, 1] - V[:, 0,:, 1])\n",
    "    div_V[:, -1,:] += (V[:, -1,:, 1] - V[:, -2,:, 1])\n",
    "    div_V[:,:, 0] += (V[:, :,1, 1] - V[:,:, 0, 1])\n",
    "    div_V[:,:, -1] += (V[:, :,-1, 1] - V[:,:, -2, 1])\n",
    "\n",
    "    return div_V\n",
    "\n",
    "    "
   ]
  },
  {
   "cell_type": "code",
   "execution_count": 15,
   "metadata": {},
   "outputs": [],
   "source": [
    "grad=compute_divergence(values)"
   ]
  },
  {
   "cell_type": "code",
   "execution_count": 16,
   "metadata": {},
   "outputs": [
    {
     "data": {
      "text/plain": [
       "<matplotlib.colorbar.Colorbar at 0x7fbee103e5f0>"
      ]
     },
     "execution_count": 16,
     "metadata": {},
     "output_type": "execute_result"
    },
    {
     "data": {
      "image/png": "[encoded data removed]",
      "text/plain": [
       "<Figure size 1600x400 with 2 Axes>"
      ]
     },
     "metadata": {},
     "output_type": "display_data"
    }
   ],
   "source": [
    "fig = plt.figure(figsize=plt.figaspect(0.25))\n",
    "slice=256\n",
    "ax = fig.add_subplot(1, 1, 1)\n",
    "plt.imshow(grad[:,:,slice],cmap=\"gray\",vmin=torch.min(grad),vmax=torch.max(grad))\n",
    "plt.colorbar()\n",
    "\n",
    "#plt.quiver(X_plot,Y_plot,values[:,:,slice,0],values[:,:,slice,1],alpha = 0.5,scale = 0.1)"
   ]
  },
  {
   "cell_type": "markdown",
   "metadata": {},
   "source": [
    "# List of Gaussian kernels"
   ]
  },
  {
   "cell_type": "code",
   "execution_count": 17,
   "metadata": {},
   "outputs": [],
   "source": [
    "def get_list_gaussians(borders,D):\n",
    "    res_centers=torch.empty(8**D,4)\n",
    "\n",
    "    min_x=borders[0]#.item()\n",
    "    max_x=borders[1]#.item()\n",
    "    min_y=borders[2]#.item()\n",
    "    max_y=borders[3]#.item()\n",
    "    min_z=borders[4]#.item()\n",
    "    max_z=borders[5]#.item()\n",
    "\n",
    "    Width=(max_x-min_x)/(2**D)\n",
    "\n",
    "    tmp_grid=torch.empty((2**D,2**D,2**D,3))\n",
    "\n",
    "   \n",
    "    i=min_x+torch.arange(0,2**D,1)*Width+Width/2.0\n",
    "    j=min_y+torch.arange(0,2**D,1)*Width+Width/2.0\n",
    "    w=min_z+torch.arange(0,2**D,1)*Width+Width/2.0\n",
    "\n",
    "\n",
    "    grid_x, grid_y, grid_z = torch.meshgrid(i, j, w, indexing='ij')\n",
    "\n",
    "    tmp_grid[:,:,:,0]=grid_x\n",
    "    tmp_grid[:,:,:,1]=grid_y\n",
    "    tmp_grid[:,:,:,2]=grid_z\n",
    "\n",
    "    res_centers[:,0]=tmp_grid[:,:,:,0].flatten()\n",
    "    res_centers[:,1]=tmp_grid[:,:,:,1].flatten()\n",
    "    res_centers[:,2]=tmp_grid[:,:,:,2].flatten()\n",
    "    res_centers[:,3]=Width\n",
    "\n",
    "    return res_centers"
   ]
  },
  {
   "cell_type": "code",
   "execution_count": 18,
   "metadata": {},
   "outputs": [
    {
     "name": "stdout",
     "output_type": "stream",
     "text": [
      "torch.Size([16777216, 4])\n"
     ]
    }
   ],
   "source": [
    "\n",
    "Depth_gauss=8\n",
    "bord=get_borders(points_c)\n",
    "L_gaussians=get_list_gaussians(bord,Depth_gauss)\n",
    "print(L_gaussians.shape)"
   ]
  },
  {
   "cell_type": "markdown",
   "metadata": {},
   "source": [
    "# Computation of < B , V >"
   ]
  },
  {
   "cell_type": "code",
   "execution_count": 20,
   "metadata": {},
   "outputs": [],
   "source": [
    "def get_inner_product_gradVB_batched(V, L_gaussians, borders, batch_size=8):\n",
    "    V=V.to(device)\n",
    "    # Assuming points_c is defined elsewhere and available here\n",
    "    min_x = torch.min(points_c[:, 0]).item()\n",
    "    max_x = torch.max(points_c[:, 0]).item()\n",
    "    min_y = torch.min(points_c[:, 1]).item()\n",
    "    max_y = torch.max(points_c[:, 1]).item()\n",
    "    min_z = torch.min(points_c[:, 2]).item()\n",
    "    max_z = torch.max(points_c[:, 2]).item()\n",
    "\n",
    "    w_x = max_x - min_x\n",
    "    w_y = max_y - min_y\n",
    "    w_z = max_z - min_z\n",
    "\n",
    "    resolution = V.shape[0]\n",
    "\n",
    "    x_range = torch.linspace(min_x, max_x, resolution)\n",
    "    y_range = torch.linspace(min_y, max_y, resolution)\n",
    "    z_range = torch.linspace(min_z, max_z, resolution)\n",
    "\n",
    "    grid_x, grid_y, grid_z = torch.meshgrid(x_range, y_range, z_range, indexing='ij')\n",
    "    \n",
    "    # Pre-compute the grid coordinates\n",
    "    grid_coords = torch.stack([grid_x, grid_y, grid_z], dim=-1).to(device)\n",
    "\n",
    "    res = torch.empty(L_gaussians.shape[0], device=device)\n",
    "    \n",
    "    num_batches = (L_gaussians.shape[0] + batch_size - 1) // batch_size\n",
    "\n",
    "    for b in tqdm(range(num_batches)):\n",
    "        start_idx = b * batch_size\n",
    "        end_idx = min((b + 1) * batch_size, L_gaussians.shape[0])\n",
    "        batch = L_gaussians[start_idx:end_idx].to(device)\n",
    "\n",
    "        tmp_sum_g = ((grid_coords[..., 0:1] - batch[:, 0:1].T) / batch[:, 3:4].T) ** 2\n",
    "        tmp_sum_g += ((grid_coords[..., 1:2] - batch[:, 1:2].T) / batch[:, 3:4].T) ** 2\n",
    "        tmp_sum_g += ((grid_coords[..., 2:3] - batch[:, 2:3].T) / batch[:, 3:4].T) ** 2\n",
    "        \n",
    "        tmp_sum_g = torch.exp(-(tmp_sum_g / (1.5 ** 2))) / batch[:, 3:4].T ** 3\n",
    "        tmp_sum_g = tmp_sum_g * V.unsqueeze(-1)  # Add an extra dimension for broadcasting\n",
    "\n",
    "        # Sum over the grid dimensions and multiply by volume element\n",
    "        tmp_sum_g = torch.sum(tmp_sum_g, dim=(0, 1, 2)) * ((w_x * w_y * w_z) / resolution ** 3)\n",
    "        res[start_idx:end_idx] = tmp_sum_g.detach().cpu()\n",
    "\n",
    "    # Cleanup\n",
    "    V = V.detach().cpu()\n",
    "    L_gaussians = L_gaussians.detach().cpu()\n",
    "    torch.cuda.empty_cache()\n",
    "    gc.collect()\n",
    "\n",
    "    return res"
   ]
  },
  {
   "cell_type": "code",
   "execution_count": 21,
   "metadata": {},
   "outputs": [
    {
     "name": "stderr",
     "output_type": "stream",
     "text": [
      "  2%|▏         | 47978/2097152 [2:04:31<88:38:17,  6.42it/s]\n"
     ]
    },
    {
     "ename": "KeyboardInterrupt",
     "evalue": "",
     "output_type": "error",
     "traceback": [
      "\u001b[0;31m---------------------------------------------------------------------------\u001b[0m",
      "\u001b[0;31mKeyboardInterrupt\u001b[0m                         Traceback (most recent call last)",
      "Cell \u001b[0;32mIn[21], line 1\u001b[0m\n\u001b[0;32m----> 1\u001b[0m V_o\u001b[38;5;241m=\u001b[39m\u001b[43mget_inner_product_gradVB_batched\u001b[49m\u001b[43m(\u001b[49m\u001b[43mgrad\u001b[49m\u001b[43m,\u001b[49m\u001b[43mL_gaussians\u001b[49m\u001b[43m,\u001b[49m\u001b[43mbord\u001b[49m\u001b[43m)\u001b[49m\n",
      "Cell \u001b[0;32mIn[20], line 44\u001b[0m, in \u001b[0;36mget_inner_product_gradVB_batched\u001b[0;34m(V, L_gaussians, borders, batch_size)\u001b[0m\n\u001b[1;32m     42\u001b[0m     \u001b[38;5;66;03m# Sum over the grid dimensions and multiply by volume element\u001b[39;00m\n\u001b[1;32m     43\u001b[0m     tmp_sum_g \u001b[38;5;241m=\u001b[39m torch\u001b[38;5;241m.\u001b[39msum(tmp_sum_g, dim\u001b[38;5;241m=\u001b[39m(\u001b[38;5;241m0\u001b[39m, \u001b[38;5;241m1\u001b[39m, \u001b[38;5;241m2\u001b[39m)) \u001b[38;5;241m*\u001b[39m ((w_x \u001b[38;5;241m*\u001b[39m w_y \u001b[38;5;241m*\u001b[39m w_z) \u001b[38;5;241m/\u001b[39m resolution \u001b[38;5;241m*\u001b[39m\u001b[38;5;241m*\u001b[39m \u001b[38;5;241m3\u001b[39m)\n\u001b[0;32m---> 44\u001b[0m     res[start_idx:end_idx] \u001b[38;5;241m=\u001b[39m \u001b[43mtmp_sum_g\u001b[49m\u001b[38;5;241;43m.\u001b[39;49m\u001b[43mdetach\u001b[49m\u001b[43m(\u001b[49m\u001b[43m)\u001b[49m\u001b[38;5;241;43m.\u001b[39;49m\u001b[43mcpu\u001b[49m\u001b[43m(\u001b[49m\u001b[43m)\u001b[49m\n\u001b[1;32m     46\u001b[0m \u001b[38;5;66;03m# Cleanup\u001b[39;00m\n\u001b[1;32m     47\u001b[0m V \u001b[38;5;241m=\u001b[39m V\u001b[38;5;241m.\u001b[39mdetach()\u001b[38;5;241m.\u001b[39mcpu()\n",
      "\u001b[0;31mKeyboardInterrupt\u001b[0m: "
     ]
    }
   ],
   "source": [
    "V_o=get_inner_product_gradVB_batched(grad,L_gaussians,bord)"
   ]
  },
  {
   "cell_type": "markdown",
   "metadata": {},
   "source": [
    "# Computation of < B'' , B >"
   ]
  },
  {
   "cell_type": "code",
   "execution_count": 30,
   "metadata": {},
   "outputs": [],
   "source": [
    "def get_indexes_BB(id_ligne,L_gaussians,D):\n",
    "    \n",
    "\n",
    "    tmp_ker=L_gaussians[id_ligne,:]\n",
    "\n",
    "    tmp_L_g=L_gaussians[id_ligne:id_ligne+15*4**D,:]\n",
    "    \n",
    "\n",
    "    tmp_L_g=torch.sqrt(torch.sum((tmp_L_g[:,:3]-tmp_ker[:3])**2,dim=(1)))/tmp_ker[3]\n",
    "    b= tmp_L_g <=12\n",
    "\n",
    "    \n",
    "    return id_ligne+b.nonzero().flatten()\n",
    "\n",
    "def get_indexes_BB_reverse(id_ligne,L_gaussians,D):\n",
    "    \n",
    "\n",
    "    tmp_ker=L_gaussians[id_ligne,:]\n",
    "\n",
    "    tmp_L_g=L_gaussians[id_ligne-15*4**D:id_ligne,:]\n",
    "    \n",
    "\n",
    "    tmp_L_g=torch.sqrt(torch.sum((tmp_L_g[:,:3]-tmp_ker[:3])**2,dim=(1)))/tmp_ker[3]\n",
    "    b= tmp_L_g <=13\n",
    "\n",
    "    \n",
    "    return id_ligne-b.nonzero().flatten()\n",
    "\n",
    "def get_vec_idxs(L_gaussians,D,reverse=False):\n",
    "    vec_ixds=torch.empty((0,2))\n",
    "    \n",
    "    print(\"computation of matrix indexes\")\n",
    "    for idx_gaussian_1 in tqdm(range(L_gaussians.shape[0])):\n",
    "        indexes=None\n",
    "        if reverse:\n",
    "            indexes=get_indexes_BB_reverse(idx_gaussian_1,L_gaussians,D)\n",
    "        else:\n",
    "            indexes=get_indexes_BB(idx_gaussian_1,L_gaussians,D)\n",
    "            \n",
    "        tmp_list=torch.zeros((indexes.shape[0],2))\n",
    "        tmp_list[:,0]=indexes\n",
    "        tmp_list[:,1]=idx_gaussian_1\n",
    "        vec_ixds=torch.cat((vec_ixds,tmp_list),0)\n",
    "\n",
    "    return vec_ixds\n"
   ]
  },
  {
   "cell_type": "code",
   "execution_count": 31,
   "metadata": {},
   "outputs": [],
   "source": [
    "def get_inner_product_gradB_B_sparse_vec(size_grid,vec_ixds, L_gaussians, borders,D):\n",
    "    \n",
    "    sparse_indexes = torch.empty((2,0))\n",
    "    sparse_values  = torch.empty(0)\n",
    "\n",
    "    \n",
    "    \n",
    "\n",
    "    batch_size=512\n",
    "\n",
    "\n",
    "\n",
    "    min_x=borders[0].item()\n",
    "    max_x=borders[1].item()\n",
    "    min_y=borders[2].item()\n",
    "    max_y=borders[3].item()\n",
    "    min_z=borders[4].item()\n",
    "    max_z=borders[5].item()\n",
    "\n",
    "    width_x = max_x - min_x\n",
    "    width_y = max_y - min_y\n",
    "    width_z = max_z - min_z\n",
    "\n",
    "    xs = torch.linspace(min_x - width_x * 0.125, max_x + width_x * 0.125, steps=size_grid)\n",
    "    ys = torch.linspace(min_y - width_y * 0.125, max_y + width_y * 0.125, steps=size_grid)\n",
    "    zs = torch.linspace(min_z - width_z * 0.125, max_z + width_z * 0.125, steps=size_grid)\n",
    "    \n",
    "    x, y, z = torch.meshgrid(xs, ys, zs, indexing='xy')\n",
    "\n",
    "    grid = torch.empty(size_grid, size_grid, size_grid, 3)\n",
    "    grid[:, :, :, 0] = x\n",
    "    grid[:, :, :, 1] = y\n",
    "    grid[:, :, :, 2] = z\n",
    "\n",
    "    \n",
    "\n",
    "    \n",
    "    print(\"computation of the matrix\")\n",
    "    for batch in tqdm(range(0,vec_ixds.shape[0],batch_size)):\n",
    "\n",
    "        \n",
    "        Width=L_gaussians[0,3]\n",
    "        coords_g1=L_gaussians[vec_ixds[batch:batch+batch_size,1].to(torch.int)].to(device)\n",
    "        coords_g1=coords_g1[:,:3].unsqueeze(1).unsqueeze(1).unsqueeze(1).expand((-1,size_grid,size_grid,size_grid,-1))\n",
    "        coords_g2=L_gaussians[vec_ixds[batch:batch+batch_size,0].to(torch.int)].to(device)\n",
    "        coords_g2=coords_g2[:,:3].unsqueeze(1).unsqueeze(1).unsqueeze(1).expand((-1,size_grid,size_grid,size_grid,-1))\n",
    "\n",
    "        taille_batch = coords_g2.shape[0]\n",
    "        grid_tmp= grid.clone().to(device).unsqueeze(0).repeat((taille_batch, 1, 1, 1, 1))\n",
    "\n",
    "        \n",
    "        gauss_1=( (grid_tmp.clone()-coords_g1) / Width )**2\n",
    "        gauss_1= torch.exp(-torch.sum(gauss_1,dim=4)/(1.5**2))\n",
    "        gauss_1x= -(gauss_1.clone()*(grid_tmp[:, :, :, :, 0]-coords_g1[:, :, :, :, 0])/(1.5**2))/Width**3\n",
    "        gauss_1y= -(gauss_1.clone()*(grid_tmp[:, :, :, :, 1]-coords_g1[:, :, :, :, 1])/(1.5**2))/Width**3\n",
    "        gauss_1z= -(gauss_1.clone()*(grid_tmp[:, :, :, :, 2]-coords_g1[:, :, :, :, 2])/(1.5**2))/Width**3\n",
    "\n",
    "        gauss_2=( (grid_tmp.clone()-coords_g2) / Width )**2\n",
    "        gauss_2= torch.exp(-torch.sum(gauss_2,dim=4)/(1.5**2))\n",
    "        gauss_2x= -((gauss_2.clone()*(grid_tmp[:, :, :, :, 0]-coords_g2[:, :, :, :, 0])/(1.5**2)))/Width**3\n",
    "        gauss_2y= -((gauss_2.clone()*(grid_tmp[:, :, :, :, 1]-coords_g2[:, :, :, :, 1])/(1.5**2)))/Width**3\n",
    "        gauss_2z= -((gauss_2.clone()*(grid_tmp[:, :, :, :, 2]-coords_g2[:, :, :, :, 2])/(1.5**2)))/Width**3\n",
    "        \n",
    "\n",
    "        \n",
    "        \n",
    "        tmp_res=-torch.sum(gauss_1x*gauss_2x*((width_x*width_y*width_z)/size_grid**3),dim=(1,2,3))\n",
    "        tmp_res+=-torch.sum(gauss_1y*gauss_2y*((width_x*width_y*width_z)/size_grid**3),dim=(1,2,3))\n",
    "        tmp_res+=-torch.sum(gauss_1z*gauss_2z*((width_x*width_y*width_z)/size_grid**3),dim=(1,2,3))\n",
    "\n",
    "        \n",
    "        sparse_indexes = torch.cat((sparse_indexes,vec_ixds[batch:batch+batch_size].permute(1,0) ), dim=1)\n",
    "        sparse_values = torch.cat((sparse_values, tmp_res.detach().cpu()), dim=0)\n",
    "\n",
    "        tmp_vec_idxs_flip=torch.empty(vec_ixds[batch:batch+batch_size].shape)\n",
    "        tmp_vec_idxs_flip[:,0]=vec_ixds[batch:batch+batch_size,1]\n",
    "        tmp_vec_idxs_flip[:,1]=vec_ixds[batch:batch+batch_size,0]\n",
    "\n",
    "        tmp_vec_idxs_flip_boolean=(tmp_vec_idxs_flip[:,0]!=tmp_vec_idxs_flip[:,1]).nonzero()\n",
    "\n",
    "        tmp_vec_idxs_flip=tmp_vec_idxs_flip[tmp_vec_idxs_flip_boolean,][:,0,:]\n",
    "       \n",
    "        tmp_res=tmp_res[tmp_vec_idxs_flip_boolean][:,0]\n",
    "\n",
    "        sparse_indexes = torch.cat((sparse_indexes,tmp_vec_idxs_flip.permute(1,0) ), dim=1)\n",
    "        sparse_values = torch.cat((sparse_values, tmp_res.detach().cpu()), dim=0)\n",
    "        \n",
    "        \n",
    "    \n",
    "        \n",
    "\n",
    "    \n",
    "    sparse_indexes=sparse_indexes.detach().cpu()\n",
    "    sparse_values=sparse_values.detach().cpu()\n",
    "     \n",
    "    #np.save(\"./L_oo/indexes_\"+str(D)+\".npy\",sparse_indexes.numpy().astype(np.single))\n",
    "    #np.save(\"./L_oo/values_\"+str(D)+\".npy\",sparse_values.numpy().astype(np.single))\n",
    "    torch.cuda.empty_cache()\n",
    "    gc.collect()\n",
    "\n",
    "    return sparse_indexes,sparse_values#torch.sparse_coo_tensor(sparse_indexes, sparse_values,size=(8**D, 8**D))\n",
    "        \n",
    "\n",
    "        \n",
    "        \n",
    "\n",
    "\n",
    "    \n",
    "    return id_ligne+b.nonzero().flatten()\n",
    "\n",
    "def get_Loo(L_gaussians,D,borders):\n",
    "\n",
    "    sparse_indexes = torch.empty((2,0))\n",
    "    sparse_values  = torch.empty(0)\n",
    "    \n",
    "    vec_ixds=torch.empty((0,2))\n",
    "    vec_idx_half=torch.empty((0,2))\n",
    "\n",
    "    idx_half_start=2**D*2**D*((2**D)/2.0)\n",
    "    idx_half_end=idx_half_start+4**D\n",
    "\n",
    "    \n",
    "    size_grid=64\n",
    "    \n",
    "    print(\"computation of the first slice indexes\")\n",
    "    for idx_gaussian_1 in tqdm(range(4**D)):\n",
    "        indexes=get_indexes_BB(idx_gaussian_1,L_gaussians,D)\n",
    "        tmp_list=torch.zeros((indexes.shape[0],2))\n",
    "        tmp_list[:,0]=indexes\n",
    "        tmp_list[:,1]=idx_gaussian_1\n",
    "        vec_idx_half=torch.cat((vec_idx_half,tmp_list),0)\n",
    "\n",
    "    indexes_half,values_half=get_inner_product_gradB_B_sparse_vec(size_grid,vec_idx_half, L_gaussians, borders,D)\n",
    "        \n",
    "    print(\"replication in the sparse matrix\")\n",
    "    for layer in tqdm(range(0,8**D,4**D)):\n",
    "        indexes_half_tmp=indexes_half.clone()+layer\n",
    "        \n",
    "        mask=(indexes_half_tmp[0] < L_gaussians.shape[0]) & (indexes_half_tmp[1] < L_gaussians.shape[0])\n",
    "        \n",
    "        indexes_half_tmp=indexes_half_tmp[:, mask]\n",
    "        values_half_tmp = values_half.clone()[mask]\n",
    "        \n",
    "        \n",
    "        \n",
    "        sparse_indexes = torch.cat((sparse_indexes,indexes_half_tmp ), dim=1)\n",
    "        sparse_values = torch.cat((sparse_values,values_half_tmp), dim=0)\n",
    "        \n",
    "        \n",
    "        \n",
    "    \n",
    "    \n",
    "    \n",
    "    torch.cuda.empty_cache()\n",
    "    gc.collect()\n",
    "\n",
    "    return sparse_indexes,sparse_values\n",
    "\n",
    "\n",
    "\n",
    "\n"
   ]
  },
  {
   "cell_type": "code",
   "execution_count": 32,
   "metadata": {},
   "outputs": [
    {
     "name": "stdout",
     "output_type": "stream",
     "text": [
      "computation of the first slice indexes\n"
     ]
    },
    {
     "name": "stderr",
     "output_type": "stream",
     "text": [
      "100%|██████████| 1024/1024 [00:02<00:00, 397.53it/s]\n"
     ]
    },
    {
     "name": "stdout",
     "output_type": "stream",
     "text": [
      "computation of the matrix\n"
     ]
    },
    {
     "name": "stderr",
     "output_type": "stream",
     "text": [
      "100%|██████████| 5277/5277 [09:34<00:00,  9.19it/s]\n"
     ]
    },
    {
     "name": "stdout",
     "output_type": "stream",
     "text": [
      "replication in the sparse matrix\n"
     ]
    },
    {
     "name": "stderr",
     "output_type": "stream",
     "text": [
      "100%|██████████| 32/32 [00:07<00:00,  4.30it/s]\n"
     ]
    }
   ],
   "source": [
    "#loo_indexes,loo_values=get_inner_product_gradB_B_sparse_vec(8,vec_ixds, L_gaussians, bord,Depth_gauss)\n",
    "loo_indexes,loo_values=get_Loo(L_gaussians,Depth_gauss,bord)"
   ]
  },
  {
   "cell_type": "markdown",
   "metadata": {},
   "source": [
    "# Linear system solving"
   ]
  },
  {
   "cell_type": "markdown",
   "metadata": {},
   "source": [
    "In pytorch:"
   ]
  },
  {
   "cell_type": "code",
   "execution_count": null,
   "metadata": {},
   "outputs": [],
   "source": [
    "\n",
    "\n",
    "def conjugate_gradient(A, b, x=None, tolerance=1e-1, max_iterations=1000):\n",
    "    \n",
    "    if x is None:\n",
    "        x = torch.zeros(b.shape).to(device)\n",
    "    \n",
    "    r = b - torch.sparse.mm(A,x.view((x.shape[0],1))).flatten()\n",
    "    p=r.clone()\n",
    "    \n",
    "    \n",
    "    rs_old = torch.dot(r, r)\n",
    "    score=999\n",
    "    for i in tqdm(range(max_iterations)):\n",
    "        Ap = torch.sparse.mm(A,p.view((p.shape[0],1))).flatten()\n",
    "        alpha = rs_old / torch.dot(p, Ap)\n",
    "        x = x + alpha * p\n",
    "        r = r - alpha * Ap\n",
    "        \n",
    "        rs_new = torch.dot(r, r)\n",
    "        score=torch.sqrt(rs_new)\n",
    "        print(score)\n",
    "        if score < tolerance:\n",
    "            print(score)\n",
    "            break\n",
    "        \n",
    "        p = r + (rs_new / rs_old) * p\n",
    "        rs_old = rs_new\n",
    "    print(score)\n",
    "    return x\n",
    "\n",
    "\n",
    "V_o=V_o.detach().cpu()\n",
    "\n",
    "L_oo=torch.sparse_coo_tensor(loo_indexes,loo_values,size=(8**Depth_gauss,8**Depth_gauss))\n",
    "eps=conjugate_gradient(L_oo.to(device),V_o.to(device))"
   ]
  },
  {
   "cell_type": "markdown",
   "metadata": {},
   "source": [
    "Using scipy:"
   ]
  },
  {
   "cell_type": "code",
   "execution_count": 33,
   "metadata": {},
   "outputs": [
    {
     "name": "stderr",
     "output_type": "stream",
     "text": [
      "/tmp/ipykernel_12545/1942397895.py:7: DeprecationWarning: 'scipy.sparse.linalg.cg' keyword argument `tol` is deprecated in favor of `rtol` and will be removed in SciPy v1.14.0. Until then, if set, it will override `rtol`.\n",
      "  eps, exit_code = cg(A, B, tol=0.05)\n"
     ]
    },
    {
     "name": "stdout",
     "output_type": "stream",
     "text": [
      "0\n"
     ]
    }
   ],
   "source": [
    "from scipy.sparse.linalg import cg\n",
    "\n",
    "tmp_L_oo=scipy.sparse.coo_matrix((loo_values.numpy(), loo_indexes.numpy()), shape=(8**Depth_gauss, 8**Depth_gauss))\n",
    "A = csc_matrix(tmp_L_oo)\n",
    "B=V_o.detach().cpu().numpy()\n",
    "\n",
    "eps, exit_code = cg(A, B, tol=0.05)\n",
    "print(exit_code)\n",
    "\n",
    "eps=torch.from_numpy(np.array(eps))"
   ]
  },
  {
   "cell_type": "code",
   "execution_count": 44,
   "metadata": {},
   "outputs": [
    {
     "name": "stderr",
     "output_type": "stream",
     "text": [
      "100%|██████████| 128/128 [00:02<00:00, 57.54it/s]\n",
      "100%|██████████| 35947/35947 [00:04<00:00, 7261.88it/s]"
     ]
    },
    {
     "name": "stdout",
     "output_type": "stream",
     "text": [
      "tensor(-1.9390)\n"
     ]
    },
    {
     "name": "stderr",
     "output_type": "stream",
     "text": [
      "\n"
     ]
    }
   ],
   "source": [
    "#grid resolution\n",
    "n_p=128\n",
    "\n",
    "min_x=torch.min(points_c[:,0]).item()\n",
    "max_x=torch.max(points_c[:,0]).item()\n",
    "min_y=torch.min(points_c[:,1]).item()\n",
    "max_y=torch.max(points_c[:,1]).item()\n",
    "min_z=torch.min(points_c[:,2]).item()\n",
    "max_z=torch.max(points_c[:,2]).item()\n",
    "\n",
    "width_x=max_x-min_x\n",
    "width_y=max_y-min_y\n",
    "width_z=max_y-min_z\n",
    "\n",
    "image_res=torch.zeros((n_p,n_p,n_p))\n",
    "\n",
    "xs = torch.linspace(min_x - width_x * 0.125, max_x + width_x * 0.125, steps=n_p)\n",
    "ys = torch.linspace(min_y - width_y * 0.125, max_y + width_y * 0.125, steps=n_p)\n",
    "zs = torch.linspace(min_z - width_z * 0.125, max_z + width_z * 0.125, steps=n_p)\n",
    "\n",
    "x, y, z = torch.meshgrid(xs, ys, zs, indexing='xy')\n",
    "\n",
    "grid = torch.empty(n_p, n_p, n_p, 3)\n",
    "grid[:, :, :, 0] = x\n",
    "grid[:, :, :, 1] = y\n",
    "grid[:, :, :, 2] = z\n",
    "\n",
    "\n",
    "def get_X(x,l_g,q):\n",
    "    \n",
    "    #res=torch.sum(torch.exp(-torch.sum(((q-l_g[:,:3])/l_g[0,3])**2)/(1.5**2))*x)\n",
    "    res=torch.sum(torch.exp((-torch.sum(((q.to(device)-l_g[:,:3]).to(device)/l_g[0,3].to(device))**2,dim=1))/1.5**2)*x)\n",
    "    \n",
    "    #res=torch.sum(torch.exp(-( ((q[0] - l_g[:,0])/l_g[:,3])**2 + ((q[1] - l_g[:,1])/l_g[:,3])**2 + ((q[2] - l_g[:,2])/l_g[:,3])**2 ) / l_g[0,3]**2)*x)\n",
    "\n",
    "    return res\n",
    "        \n",
    "\n",
    "\n",
    "L_gaussians=L_gaussians.to(device) \n",
    "eps=eps.clone().to(device) \n",
    "\n",
    "\n",
    "for i in tqdm(range(xs.shape[0])):\n",
    "    for j in range(xs.shape[0]):\n",
    "        #for w in range(xs.shape[0]):\n",
    "        w=64\n",
    "        image_res[i,j,w]=get_X(eps,L_gaussians,grid[i,j,w].to(device) ).detach().cpu()\n",
    "\n",
    "def get_isovalue(eps,l_g,l_p):\n",
    "     res=torch.zeros(l_p.shape)\n",
    "     for idx_p in tqdm(range(l_p.shape[0])):\n",
    "         tmp_p=l_p[idx_p,:3]\n",
    "         res[idx_p]=get_X(eps,l_g,tmp_p)\n",
    "     return res.mean()\n",
    "\n",
    "iso_val=get_isovalue(eps,L_gaussians,points_c)\n",
    "print(iso_val)"
   ]
  },
  {
   "cell_type": "code",
   "execution_count": 45,
   "metadata": {},
   "outputs": [
    {
     "data": {
      "text/plain": [
       "<matplotlib.colorbar.Colorbar at 0x7f3e12434e80>"
      ]
     },
     "execution_count": 45,
     "metadata": {},
     "output_type": "execute_result"
    },
    {
     "data": {
      "image/png": "[encoded data removed]",
      "text/plain": [
       "<Figure size 640x480 with 2 Axes>"
      ]
     },
     "metadata": {},
     "output_type": "display_data"
    }
   ],
   "source": [
    "slice=64\n",
    "plt.imshow(torch.flip(image_res[:,:,slice], dims=[0, 1]),cmap=\"bwr\",vmin=iso_val)\n",
    "plt.colorbar()"
   ]
  },
  {
   "cell_type": "code",
   "execution_count": 40,
   "metadata": {},
   "outputs": [
    {
     "data": {
      "text/plain": [
       "<matplotlib.colorbar.Colorbar at 0x7fcdd6a592b0>"
      ]
     },
     "execution_count": 40,
     "metadata": {},
     "output_type": "execute_result"
    },
    {
     "data": {
      "image/png": "[encoded data removed]",
      "text/plain": [
       "<Figure size 640x480 with 2 Axes>"
      ]
     },
     "metadata": {},
     "output_type": "display_data"
    }
   ],
   "source": [
    "slice=64\n",
    "plt.imshow(torch.flip(image_res[:,:,slice], dims=[0, 1]),cmap=\"bwr\",vmin=iso_val)\n",
    "plt.colorbar()"
   ]
  },
  {
   "cell_type": "markdown",
   "metadata": {},
   "source": [
    "# Export the isovalue as an .Obj file"
   ]
  },
  {
   "cell_type": "code",
   "execution_count": 27,
   "metadata": {},
   "outputs": [
    {
     "ename": "ModuleNotFoundError",
     "evalue": "No module named 'mcubes'",
     "output_type": "error",
     "traceback": [
      "\u001b[0;31m---------------------------------------------------------------------------\u001b[0m",
      "\u001b[0;31mModuleNotFoundError\u001b[0m                       Traceback (most recent call last)",
      "Cell \u001b[0;32mIn[27], line 2\u001b[0m\n\u001b[1;32m      1\u001b[0m \u001b[38;5;28;01mimport\u001b[39;00m \u001b[38;5;21;01mnumpy\u001b[39;00m \u001b[38;5;28;01mas\u001b[39;00m \u001b[38;5;21;01mnp\u001b[39;00m\n\u001b[0;32m----> 2\u001b[0m \u001b[38;5;28;01mimport\u001b[39;00m \u001b[38;5;21;01mmcubes\u001b[39;00m\n\u001b[1;32m      3\u001b[0m \u001b[38;5;28;01mimport\u001b[39;00m \u001b[38;5;21;01mmatplotlib\u001b[39;00m\u001b[38;5;21;01m.\u001b[39;00m\u001b[38;5;21;01mpyplot\u001b[39;00m \u001b[38;5;28;01mas\u001b[39;00m \u001b[38;5;21;01mplt\u001b[39;00m\n\u001b[1;32m      4\u001b[0m \u001b[38;5;28;01mfrom\u001b[39;00m \u001b[38;5;21;01mmpl_toolkits\u001b[39;00m\u001b[38;5;21;01m.\u001b[39;00m\u001b[38;5;21;01mmplot3d\u001b[39;00m\u001b[38;5;21;01m.\u001b[39;00m\u001b[38;5;21;01mart3d\u001b[39;00m \u001b[38;5;28;01mimport\u001b[39;00m Poly3DCollection\n",
      "\u001b[0;31mModuleNotFoundError\u001b[0m: No module named 'mcubes'"
     ]
    }
   ],
   "source": [
    "import numpy as np\n",
    "import mcubes\n",
    "import matplotlib.pyplot as plt\n",
    "from mpl_toolkits.mplot3d.art3d import Poly3DCollection\n",
    "\n",
    "from skimage import measure\n",
    "from skimage.draw import ellipsoid\n",
    "\n",
    "\n",
    "min_x=torch.min(points_c[:,0]).item()\n",
    "max_x=torch.max(points_c[:,0]).item()\n",
    "min_y=torch.min(points_c[:,1]).item()\n",
    "max_y=torch.max(points_c[:,1]).item()\n",
    "min_z=torch.min(points_c[:,2]).item()\n",
    "max_z=torch.max(points_c[:,2]).item()\n",
    "\n",
    "# Use marching cubes to obtain the surface mesh of these ellipsoids\n",
    "verts, faces, normals, values = measure.marching_cubes(image_res.numpy(),iso_val)\n",
    "mcubes.export_obj(verts, faces, 'bunny_maison.obj')\n"
   ]
  },
  {
   "cell_type": "code",
   "execution_count": 41,
   "metadata": {},
   "outputs": [],
   "source": [
    "np.save(\"mub.npy\",image_res.numpy().astype(np.single))"
   ]
  },
  {
   "cell_type": "code",
   "execution_count": null,
   "metadata": {},
   "outputs": [],
   "source": []
  }
 ],
 "metadata": {
  "kernelspec": {
   "display_name": "Python 3 (ipykernel)",
   "language": "python",
   "name": "python3"
  },
  "language_info": {
   "codemirror_mode": {
    "name": "ipython",
    "version": 3
   },
   "file_extension": ".py",
   "mimetype": "text/x-python",
   "name": "python",
   "nbconvert_exporter": "python",
   "pygments_lexer": "ipython3",
   "version": "3.10.11"
  }
 },
 "nbformat": 4,
 "nbformat_minor": 4
}
