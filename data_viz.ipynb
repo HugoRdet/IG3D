{
 "cells": [
  {
   "cell_type": "code",
   "execution_count": 3,
   "id": "f7ff5885-2545-41a9-8e4a-114a8dbd3bb5",
   "metadata": {},
   "outputs": [],
   "source": [
    "import torch\n",
    "import matplotlib.pyplot as plt\n",
    "import numpy as np\n",
    "import plotly.graph_objects as go\n",
    "import bloscpack as bp\n",
    "\n",
    "from utils import*"
   ]
  },
  {
   "cell_type": "code",
   "execution_count": null,
   "id": "1b5f787b-255f-41e7-9716-2b2e83992fd6",
   "metadata": {},
   "outputs": [],
   "source": [
    "viz_quadtree(name=\"quadtree_viz.blp\")"
   ]
  },
  {
   "cell_type": "code",
   "execution_count": null,
   "id": "e4a1f643-fe59-4f9c-89eb-389927cdbad6",
   "metadata": {},
   "outputs": [],
   "source": []
  }
 ],
 "metadata": {
  "kernelspec": {
   "display_name": "Python 3 (ipykernel)",
   "language": "python",
   "name": "python3"
  },
  "language_info": {
   "codemirror_mode": {
    "name": "ipython",
    "version": 3
   },
   "file_extension": ".py",
   "mimetype": "text/x-python",
   "name": "python",
   "nbconvert_exporter": "python",
   "pygments_lexer": "ipython3",
   "version": "3.9.2"
  }
 },
 "nbformat": 4,
 "nbformat_minor": 5
}
